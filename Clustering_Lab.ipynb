{
 "cells": [
  {
   "cell_type": "markdown",
   "metadata": {
    "id": "DVL7_bgmIAPR",
    "pycharm": {
     "name": "#%% md\n"
    }
   },
   "source": [
    "# Unsupervised Learning: Clustering Lab\n",
    "\n",
    "\n",
    "\n"
   ]
  },
  {
   "cell_type": "code",
   "execution_count": 1,
   "metadata": {
    "id": "6ZbYjZZZ_yLV",
    "pycharm": {
     "name": "#%%\n"
    }
   },
   "outputs": [],
   "source": [
    "import math\n",
    "import random\n",
    "\n",
    "from sklearn.base import BaseEstimator, ClassifierMixin, ClusterMixin\n",
    "from sklearn.cluster import AgglomerativeClustering, KMeans\n",
    "from sklearn.metrics import silhouette_score\n",
    "import numpy as np\n",
    "import matplotlib.pyplot as plt\n",
    "\n",
    "import urllib.request\n",
    "import io\n",
    "from scipy.io import arff\n",
    "import pandas as pd"
   ]
  },
  {
   "cell_type": "code",
   "execution_count": 2,
   "outputs": [],
   "source": [
    "# Utility functions\n",
    "def load_data(url: str):\n",
    "    ftp_stream = urllib.request.urlopen(url)\n",
    "    data, meta = arff.loadarff(io.StringIO(ftp_stream.read().decode('utf-8')))\n",
    "    data_frame = pd.DataFrame(data)\n",
    "    return data_frame\n",
    "\n",
    "def normalize_data(array):\n",
    "    new_array = array.copy()\n",
    "    _, num_cols = array.shape\n",
    "\n",
    "    def normalize(value):\n",
    "        return (value - cur_col_min) / float(cur_col_max - cur_col_min)\n",
    "\n",
    "    for i in range(0, num_cols):\n",
    "        cur_col = array[:, i]\n",
    "        cur_col_max = np.max(cur_col)\n",
    "        cur_col_min = np.min(cur_col)\n",
    "        normalize_vectorized = np.vectorize(normalize)\n",
    "        new_array[:, i] = normalize_vectorized(cur_col)\n",
    "    return new_array\n",
    "\n",
    "# Utility classes\n",
    "class Point:\n",
    "    def __init__(self, data):\n",
    "        self.data = data\n",
    "\n",
    "    def get_distance_to(self, point2):\n",
    "        dist_squared_sum = 0\n",
    "        for i in range(0, len(self.data)):\n",
    "            dist_squared_sum += (pow(self.data[i] - point2.data[i], 2))\n",
    "        return math.sqrt(dist_squared_sum)"
   ],
   "metadata": {
    "collapsed": false,
    "pycharm": {
     "name": "#%%\n"
    }
   }
  },
  {
   "cell_type": "markdown",
   "metadata": {
    "id": "sCcEPx5VIORj",
    "pycharm": {
     "name": "#%% md\n"
    }
   },
   "source": [
    "## 1. Implement the HAC and K-means algorithms\n",
    "For both algorithms:\n",
    "- Use euclidean distance as the distance metric\n",
    "- You only need to handle continuous features, but think about how you would handle nominal and unknown data\n",
    "---\n",
    "When reporting the results of each algorithm, include the following:\n",
    "- The number of clusters (*k*)\n",
    "- The silhouette score of the full clustering (You can either write and use your own silhouette_score function (extra credit) or use sklearn's)\n",
    "\n",
    "For each cluster include:\n",
    "- The vectors of points representing the cluster centroid\n",
    "- The number of instances tied to that centroid\n",
    "---\n",
    "\n",
    "### 1.1 HAC (Hierarchical Agglomerative Clustering)\n",
    "\n",
    "### HAC Code requirements \n",
    "- HAC should support both single link and complete link options.\n",
    "- HAC automatically generates all clusterings from *n* to 1.  To reduce the amount of output implement a mechanism to specify for which *k* values actual output will be generated."
   ]
  },
  {
   "cell_type": "code",
   "execution_count": 3,
   "metadata": {
    "id": "_a2KSZ_7AN0G",
    "pycharm": {
     "name": "#%%\n"
    }
   },
   "outputs": [],
   "source": [
    "class HacCluster:\n",
    "    def __init__(self, point):\n",
    "        self.points = [point]\n",
    "\n",
    "    def get_complete_link_distance(self, cluster2):\n",
    "        max_distance = 0\n",
    "        for i in range(0, len(self.points)):\n",
    "            cluster1_point = self.points[i]\n",
    "            for j in range(0, len(cluster2.points)):\n",
    "                cluster2_point = cluster2.points[j]\n",
    "                distance = cluster1_point.get_distance_to(cluster2_point)\n",
    "                if distance > max_distance:\n",
    "                    max_distance = distance\n",
    "        return max_distance\n",
    "\n",
    "    def get_single_link_distance(self, cluster2):\n",
    "        min_distance = np.inf\n",
    "        for i in range(0, len(self.points)):\n",
    "            cluster1_point = self.points[i]\n",
    "            for j in range(0, len(cluster2.points)):\n",
    "                cluster2_point = cluster2.points[j]\n",
    "                distance = cluster1_point.get_distance_to(cluster2_point)\n",
    "                if distance < min_distance:\n",
    "                    min_distance = distance\n",
    "        return min_distance\n",
    "\n",
    "    def merge(self, cluster2):\n",
    "        self.points.extend(cluster2.points)\n",
    "\n",
    "    def get_centroid(self, num_decimals=None):\n",
    "        avg_point = [0] * len(self.points[0].data)\n",
    "        for point in self.points:\n",
    "            for j in range(0, len(self.points[0].data)):\n",
    "                avg_point[j] += point.data[j]\n",
    "        for i in range(0, len(avg_point)):\n",
    "            avg_point[i] /= len(self.points)\n",
    "            if num_decimals is not None:\n",
    "                avg_point[i] = round(avg_point[i], num_decimals)\n",
    "        return avg_point\n",
    "\n",
    "\n",
    "class HACClustering(BaseEstimator, ClusterMixin):\n",
    "\n",
    "    def __init__(self, k=3, link_type='single'):  ## add parameters here\n",
    "        \"\"\"\n",
    "        Args:\n",
    "            k = how many final clusters to have\n",
    "            link_type = single or complete. when combining two clusters use complete link or single link\n",
    "        \"\"\"\n",
    "        self.link_type = link_type\n",
    "        self.k = k\n",
    "        self.clusters = []\n",
    "        self.data = []\n",
    "\n",
    "    def fit(self, data):\n",
    "        \"\"\" Fit the data; In this lab this will make the K clusters :D\n",
    "        Args:\n",
    "            X (array-like): A 2D numpy array with the training data\n",
    "            y (array-like): An optional argument. Clustering is usually unsupervised so you don't need labels\n",
    "        Returns:\n",
    "            self: this allows this to be chained, e.g. model.fit(X,y).predict(X_test)\n",
    "        \"\"\"\n",
    "        self.initialize_clusters(data)\n",
    "        while len(self.clusters) > self.k:\n",
    "            cluster_index1, cluster_index2 = self.find_nearest_clusters()\n",
    "            self.merge_clusters(cluster_index1, cluster_index2)\n",
    "        return self\n",
    "\n",
    "    def print_clusters(self, num_decimals=None):\n",
    "        \"\"\"\n",
    "            Used for grading.\n",
    "            print(\"Num clusters: {:d}\\n\".format(k))\n",
    "            print(\"Silhouette score: {:.4f}\\n\\n\".format(silhouette_score))\n",
    "            for each cluster and centroid:\n",
    "                print(np.array2string(centroid,precision=4,separator=\",\"))\n",
    "                print(\"{:d}\\n\".format(size of cluster))\n",
    "        \"\"\"\n",
    "        print(\"Num clusters: {:d}\".format(self.k))\n",
    "        print(\"Silhouette score: {:.4f}\\n\".format(self.get_silhouette_score()))\n",
    "        for cluster in self.clusters:\n",
    "            print(cluster.get_centroid(num_decimals=num_decimals))\n",
    "            print(len(cluster.points))\n",
    "\n",
    "    def initialize_clusters(self, data):\n",
    "        self.data = data\n",
    "        self.clusters = []\n",
    "        for row in data:\n",
    "            point = Point(row)\n",
    "            cluster = HacCluster(point)\n",
    "            self.clusters.append(cluster)\n",
    "\n",
    "    def find_nearest_clusters(self):\n",
    "        min_distance = np.inf\n",
    "        cluster_indices = (-1, -1)\n",
    "        for cluster1_index in range(0, len(self.clusters)):\n",
    "            for cluster2_index in range(cluster1_index + 1, len(self.clusters)):\n",
    "                cluster1 = self.clusters[cluster1_index]\n",
    "                cluster2 = self.clusters[cluster2_index]\n",
    "                distance_between = self.get_distance(cluster1, cluster2)\n",
    "                if distance_between < min_distance:\n",
    "                    min_distance = distance_between\n",
    "                    cluster_indices = (cluster1_index, cluster2_index)\n",
    "        return cluster_indices\n",
    "\n",
    "    def get_distance(self, cluster1, cluster2):\n",
    "        if self.link_type == 'single':\n",
    "            return cluster1.get_single_link_distance(cluster2)\n",
    "        else:\n",
    "            return cluster1.get_complete_link_distance(cluster2)\n",
    "\n",
    "    def merge_clusters(self, cluster1_index, cluster2_index):\n",
    "        cluster1 = self.clusters[cluster1_index]\n",
    "        cluster2 = self.clusters[cluster2_index]\n",
    "        cluster1.merge(cluster2)\n",
    "        del self.clusters[cluster2_index]\n",
    "\n",
    "    def get_silhouette_score(self):\n",
    "        classified_data = []\n",
    "        classifications = []\n",
    "        for i, cluster in enumerate(self.clusters):\n",
    "            for point in cluster.points:\n",
    "                classified_data.append(point.data)\n",
    "            cluster_classifications = [i] * len(cluster.points)\n",
    "            classifications.extend(cluster_classifications)\n",
    "        return silhouette_score(X=classified_data, labels=classifications)"
   ]
  },
  {
   "cell_type": "markdown",
   "metadata": {
    "id": "KibCIXIThpbE",
    "pycharm": {
     "name": "#%% md\n"
    }
   },
   "source": [
    "### 1.1.1 (15%) Debug \n",
    "\n",
    "Debug your model by running it on the [Debug Dataset](https://raw.githubusercontent.com/cs472ta/CS472/master/datasets/abalone.arff)\n",
    "\n",
    "\n",
    "---\n",
    "The dataset was modified to be smaller. The last datapoint should be on line 359 or the point 0.585,0.46,0.185,0.922,0.3635,0.213,0.285,10. The remaining points are commented out.\n",
    "\n",
    "- Include the output class (last column) as an additional input feature\n",
    "- Normalize Data--attributes should be normalized using the formula (x-xmin)/(xmax-xmin). Do this exact normalization rather than call the scikit normalization, else you will not get the same answers as us.\n",
    "- Report results for *k* = 5\n",
    "- Use 4 decimal places and DO NOT ROUND when reporting silhouette score and centroid values.\n",
    "\n",
    "---\n",
    "Solutions in files:\n",
    "\n",
    "[Debug HAC Single (Silhouette).txt](https://raw.githubusercontent.com/cs472ta/CS472/master/debug_solutions/Debug%20HAC%20Single%20Link%20%28Silhouette%29.txt)\n",
    "\n",
    "[Debug HAC Complete (Silhouette).txt](https://raw.githubusercontent.com/cs472ta/CS472/master/debug_solutions/Debug%20HAC%20Complete%20Link%20%28Silhouette%29.txt)"
   ]
  },
  {
   "cell_type": "code",
   "execution_count": 4,
   "metadata": {
    "pycharm": {
     "name": "#%%\n"
    }
   },
   "outputs": [
    {
     "name": "stdout",
     "output_type": "stream",
     "text": [
      "Single debug\n",
      "Num clusters: 5\n",
      "Silhouette score: 0.3453\n",
      "\n",
      "[0.599, 0.5923, 0.4915, 0.2826, 0.2682, 0.2921, 0.2316, 0.3849]\n",
      "195\n",
      "[0.9189, 0.9438, 0.7105, 0.7016, 0.759, 0.7222, 0.4472, 0.8824]\n",
      "1\n",
      "[1.0, 0.9831, 0.8026, 0.8343, 0.6575, 0.7825, 0.9221, 0.8824]\n",
      "2\n",
      "[1.0, 0.9888, 0.7895, 1.0, 1.0, 0.8915, 0.7186, 0.5882]\n",
      "1\n",
      "[0.9189, 0.9888, 0.8684, 0.719, 0.5797, 0.7512, 0.6432, 0.9412]\n",
      "1\n",
      "Complete debug\n",
      "Num clusters: 5\n",
      "Silhouette score: 0.3095\n",
      "\n",
      "[0.6544, 0.649, 0.5256, 0.2879, 0.2815, 0.3057, 0.2288, 0.3911]\n",
      "71\n",
      "[0.3661, 0.3505, 0.271, 0.1008, 0.1024, 0.1058, 0.0836, 0.2116]\n",
      "67\n",
      "[0.7622, 0.7658, 0.6759, 0.4265, 0.4016, 0.4536, 0.3376, 0.5217]\n",
      "38\n",
      "[0.8818, 0.8904, 0.7582, 0.614, 0.5433, 0.5317, 0.561, 0.7794]\n",
      "16\n",
      "[0.9471, 0.934, 0.8158, 0.7457, 0.6434, 0.7944, 0.6457, 0.625]\n",
      "8\n"
     ]
    }
   ],
   "source": [
    "# Debug Here\n",
    "def run_single_debug():\n",
    "    raw_data = np.array(load_data(r\"https://raw.githubusercontent.com/cs472ta/CS472/master/datasets/abalone.arff\"))\n",
    "    normalized_data = normalize_data(raw_data)\n",
    "    hac_clustering = HACClustering(k=5, link_type=\"single\")\n",
    "    hac_clustering.fit(normalized_data)\n",
    "    hac_clustering.print_clusters(num_decimals=4)\n",
    "\n",
    "\n",
    "def run_complete_debug():\n",
    "    raw_data = np.array(load_data(r\"https://raw.githubusercontent.com/cs472ta/CS472/master/datasets/abalone.arff\"))\n",
    "    normalized_data = normalize_data(raw_data)\n",
    "    hac_clustering = HACClustering(k=5, link_type=\"complete\")\n",
    "    hac_clustering.fit(normalized_data)\n",
    "    hac_clustering.print_clusters(num_decimals=4)\n",
    "\n",
    "print(\"Single debug\")\n",
    "run_single_debug()\n",
    "print()\n",
    "print()\n",
    "print(\"Complete debug\")\n",
    "run_complete_debug()"
   ]
  },
  {
   "cell_type": "markdown",
   "metadata": {
    "pycharm": {
     "name": "#%% md\n"
    }
   },
   "source": [
    "Discussion"
   ]
  },
  {
   "cell_type": "markdown",
   "metadata": {
    "id": "kY3VNB1ui03N",
    "pycharm": {
     "name": "#%% md\n"
    }
   },
   "source": [
    "### 1.1.2 (15%) Evaluation\n",
    "\n",
    "We will evaluate your model based on its print_clusters() output using this [Evaluation Dataset](https://raw.githubusercontent.com/cs472ta/CS472/master/datasets/seismic-bumps_train.arff) using the *same* parameters as for Debug"
   ]
  },
  {
   "cell_type": "markdown",
   "metadata": {
    "id": "Gg1UE0p3-Jen",
    "pycharm": {
     "name": "#%% md\n"
    }
   },
   "source": [
    "#### Complete Link"
   ]
  },
  {
   "cell_type": "code",
   "execution_count": 5,
   "metadata": {
    "id": "2yAxA78QjDh2",
    "pycharm": {
     "name": "#%%\n"
    }
   },
   "outputs": [
    {
     "name": "stdout",
     "output_type": "stream",
     "text": [
      "Num clusters: 5\n",
      "Silhouette score: 0.2930\n",
      "\n",
      "[0.3636, 0.4107, 0.5609, 0.3857, 0.3937, 0.2808, 0.3155, 0.0]\n",
      "49\n",
      "[0.3471, 0.3622, 0.7897, 0.279, 0.441, 0.8568, 0.2234, 0.0]\n",
      "3\n",
      "[0.1656, 0.2226, 0.3509, 0.2328, 0.152, 0.3424, 0.1918, 0.0]\n",
      "18\n",
      "[0.7918, 0.8268, 0.606, 0.7669, 0.7787, 0.4634, 0.7877, 1.0]\n",
      "49\n",
      "[0.5326, 0.6002, 0.4536, 0.5531, 0.5144, 0.5401, 0.6266, 1.0]\n",
      "21\n"
     ]
    }
   ],
   "source": [
    "# Load evaluation data\n",
    "# Train on evaluation data using complete link\n",
    "# Print clusters\n",
    "def run_hac_complete_eval():\n",
    "    raw_data = np.array(load_data(r\"https://raw.githubusercontent.com/cs472ta/CS472/master/datasets/seismic-bumps_train.arff\"))\n",
    "\n",
    "    def decode(value):\n",
    "        if type(value) == bytes:\n",
    "            return value.decode()\n",
    "        return value\n",
    "    decode_vectorized = np.vectorize(decode)\n",
    "    decoded_data = decode_vectorized(raw_data)\n",
    "    normalized_data = normalize_data(decoded_data)\n",
    "    hac_clustering = HACClustering(k=5, link_type=\"complete\")\n",
    "    hac_clustering.fit(normalized_data)\n",
    "    hac_clustering.print_clusters(num_decimals=4)\n",
    "\n",
    "run_hac_complete_eval()"
   ]
  },
  {
   "cell_type": "markdown",
   "metadata": {
    "id": "pQVABkYL-Jeo",
    "pycharm": {
     "name": "#%% md\n"
    }
   },
   "source": [
    "#### Single Link"
   ]
  },
  {
   "cell_type": "code",
   "execution_count": 6,
   "metadata": {
    "id": "PxJ0DA92-Jeo",
    "pycharm": {
     "name": "#%%\n"
    }
   },
   "outputs": [
    {
     "name": "stdout",
     "output_type": "stream",
     "text": [
      "Num clusters: 5\n",
      "Silhouette score: 0.3971\n",
      "\n",
      "[0.3159, 0.3648, 0.5145, 0.349, 0.3338, 0.3077, 0.2868, 0.0]\n",
      "67\n",
      "[0.2774, 0.2597, 1.0, 0.1224, 0.4505, 0.7549, 0.129, 0.0]\n",
      "1\n",
      "[0.3065, 0.3333, 0.6979, 0.2792, 0.3787, 1.0, 0.2373, 0.0]\n",
      "1\n",
      "[0.0884, 0.1818, 0.0, 0.145, 0.1538, 0.1245, 0.0, 0.0]\n",
      "1\n",
      "[0.714, 0.7588, 0.5603, 0.7028, 0.6994, 0.4864, 0.7393, 1.0]\n",
      "70\n"
     ]
    }
   ],
   "source": [
    "# Load evaluation data\n",
    "# Train on evaluation data using single link\n",
    "# Print clusters\n",
    "def run_hac_single_eval():\n",
    "    raw_data = np.array(load_data(r\"https://raw.githubusercontent.com/cs472ta/CS472/master/datasets/seismic-bumps_train.arff\"))\n",
    "\n",
    "    def decode(value):\n",
    "        if type(value) == bytes:\n",
    "            return value.decode()\n",
    "        return value\n",
    "    decode_vectorized = np.vectorize(decode)\n",
    "    decoded_data = decode_vectorized(raw_data)\n",
    "    normalized_data = normalize_data(decoded_data)\n",
    "    hac_clustering = HACClustering(k=5, link_type=\"single\")\n",
    "    hac_clustering.fit(normalized_data)\n",
    "    hac_clustering.print_clusters(num_decimals=4)\n",
    "\n",
    "run_hac_single_eval()"
   ]
  },
  {
   "cell_type": "markdown",
   "metadata": {
    "pycharm": {
     "name": "#%% md\n"
    }
   },
   "source": [
    "Discussion"
   ]
  },
  {
   "cell_type": "markdown",
   "metadata": {
    "id": "ougZHjiL-Jeo",
    "pycharm": {
     "name": "#%% md\n"
    }
   },
   "source": [
    "### 1.2 K-means\n",
    "\n",
    "### Code requirements \n",
    "- Ability to choose *k* and specify the *k* initial centroids\n",
    "- Ability to handle distance ties--when a node or cluster has the same distance to another cluster, which should be rare, choose the earliest cluster in your list"
   ]
  },
  {
   "cell_type": "code",
   "execution_count": 7,
   "metadata": {
    "id": "wNeVvoZl-Jeo",
    "pycharm": {
     "name": "#%%\n"
    }
   },
   "outputs": [],
   "source": [
    "class KMeansCluster:\n",
    "    def __init__(self, point):\n",
    "        self.points = []\n",
    "        self.centroid = point\n",
    "        self.previous_centroid = None\n",
    "\n",
    "    def add_point(self, point):\n",
    "        self.points.append(point)\n",
    "\n",
    "    def clear_points(self):\n",
    "        self.points = []\n",
    "\n",
    "    def get_centroid(self, num_decimals=None):\n",
    "        avg_point = [0] * len(self.points[0].data)\n",
    "        for point in self.points:\n",
    "            for j in range(0, len(self.points[0].data)):\n",
    "                avg_point[j] += point.data[j]\n",
    "        for i in range(0, len(avg_point)):\n",
    "            avg_point[i] /= len(self.points)\n",
    "            if num_decimals is not None:\n",
    "                avg_point[i] = round(avg_point[i], num_decimals)\n",
    "        return avg_point\n",
    "\n",
    "    def set_centroid(self):\n",
    "        centroid = self.get_centroid()\n",
    "        self.previous_centroid = Point(self.centroid.data)\n",
    "        self.centroid = Point(centroid)\n",
    "        return centroid\n",
    "\n",
    "    def check_changed(self):\n",
    "        if self.previous_centroid is None:\n",
    "            return True\n",
    "\n",
    "        for i in range(0, len(self.centroid.data)):\n",
    "            if self.centroid.data[i] != self.previous_centroid.data[i]:\n",
    "                return True\n",
    "        return False\n",
    "\n",
    "class KMEANSClustering(BaseEstimator, ClusterMixin):\n",
    "\n",
    "    def __init__(self, k=3, debug=False):  ## add parameters here\n",
    "        \"\"\"\n",
    "        Args:\n",
    "            k = how many final clusters to have\n",
    "            debug = if debug is true use the first k instances as the initial centroids otherwise choose random points as the initial centroids.\n",
    "        \"\"\"\n",
    "        self.k = k\n",
    "        self.debug = debug\n",
    "        self.clusters = []\n",
    "        self.data = []\n",
    "        self.raw_data = []\n",
    "\n",
    "    def fit(self, X):\n",
    "        \"\"\" Fit the data; In this lab this will make the K clusters :D\n",
    "        Args:\n",
    "            X (array-like): A 2D numpy array with the training data\n",
    "            y (array-like): An optional argument. Clustering is usually unsupervised so you don't need labels\n",
    "        Returns:\n",
    "            self: this allows this to be chained, e.g. model.fit(X,y).predict(X_test)\n",
    "        \"\"\"\n",
    "        self.initialize_points(X)\n",
    "        self.initialize_clusters()\n",
    "        converged = False\n",
    "        while not converged:\n",
    "            self.group_cluster_points()\n",
    "            converged = self.check_converged()\n",
    "            if not converged:\n",
    "                self.reset_cluster_points()\n",
    "        return self\n",
    "\n",
    "    def initialize_points(self, X):\n",
    "        self.data = []\n",
    "        for row in X:\n",
    "            self.data.append(Point(row))\n",
    "\n",
    "    def initialize_clusters(self):\n",
    "        self.clusters = []\n",
    "        if self.debug:\n",
    "            for i in range(0, self.k):\n",
    "                self.clusters.append(KMeansCluster(self.data[i]))\n",
    "        else:\n",
    "            selection_data = self.data.copy()\n",
    "            for i in range(0, self.k):\n",
    "                point_index = random.randint(0, len(selection_data) - 1)\n",
    "                self.clusters.append(KMeansCluster(selection_data[point_index]))\n",
    "                selection_data = np.delete(selection_data, point_index, 0)\n",
    "\n",
    "    def reset_cluster_points(self):\n",
    "        for cluster in self.clusters:\n",
    "            cluster.set_centroid()\n",
    "            cluster.clear_points()\n",
    "\n",
    "    def group_cluster_points(self):\n",
    "        for point_index, data_point in enumerate(self.data):\n",
    "            min_distance = np.inf\n",
    "            min_cluster_index = -1\n",
    "            for i, cluster in enumerate(self.clusters):\n",
    "                distance_to_centroid = data_point.get_distance_to(cluster.centroid)\n",
    "                if distance_to_centroid < min_distance:\n",
    "                    min_distance = distance_to_centroid\n",
    "                    min_cluster_index = i\n",
    "            self.clusters[min_cluster_index].add_point(data_point)\n",
    "\n",
    "    def check_converged(self):\n",
    "        for cluster in self.clusters:\n",
    "            cluster_changed = cluster.check_changed()\n",
    "            if cluster_changed:\n",
    "                return False\n",
    "        return True\n",
    "\n",
    "    def print_clusters(self, num_decimals=None):\n",
    "        \"\"\"\n",
    "            Used for grading.\n",
    "            print(\"Num clusters: {:d}\\n\".format(k))\n",
    "            print(\"Silhouette score: {:.4f}\\n\\n\".format(silhouette_score))\n",
    "            for each cluster and centroid:\n",
    "                print(np.array2string(centroid,precision=4,separator=\",\"))\n",
    "                print(\"{:d}\\n\".format(size of cluster))\n",
    "        \"\"\"\n",
    "        print(\"Num clusters: {:d}\\n\".format(self.k))\n",
    "        print(\"Silhouette score: {:.4f}\\n\\n\".format(self.get_silhouette_score()))\n",
    "        for cluster in self.clusters:\n",
    "            print(cluster.get_centroid(num_decimals=num_decimals))\n",
    "            print(len(cluster.points))\n",
    "\n",
    "    def get_silhouette_score(self):\n",
    "        classified_data = []\n",
    "        classifications = []\n",
    "        for i, cluster in enumerate(self.clusters):\n",
    "            for point in cluster.points:\n",
    "                classified_data.append(point.data)\n",
    "            cluster_classifications = [i] * len(cluster.points)\n",
    "            classifications.extend(cluster_classifications)\n",
    "        return silhouette_score(X=classified_data, labels=classifications)"
   ]
  },
  {
   "cell_type": "markdown",
   "metadata": {
    "id": "sVZID7Nf-Jeo",
    "pycharm": {
     "name": "#%% md\n"
    }
   },
   "source": [
    "### 1.2.1 (10%) K-Means Debug \n",
    "\n",
    "Debug your model by running it on the [Debug Dataset](https://raw.githubusercontent.com/cs472ta/CS472/master/datasets/abalone.arff)\n",
    "\n",
    "- Train until convergence\n",
    "- Make sure to include the output class (last column) as an additional input feature\n",
    "- Normalize Data--attributes should be normalized using the formula (x-xmin)/(xmax-xmin). Do this exact normalization rather than call the scikit nomralization, else you will not get the same answers as us.\n",
    "- Use *k* = 5\n",
    "- Use the first *k* instances in the training set as the initial centroids\n",
    "- Use 4 decimal places and DO NOT ROUND when reporting silhouette score and centroid values\n",
    "\n",
    "---\n",
    "Solution in file:\n",
    "\n",
    "[Debug K Means (Silhouette).txt](https://raw.githubusercontent.com/cs472ta/CS472/master/debug_solutions/Debug%20K%20Means%20%28Silhouette%29.txt)"
   ]
  },
  {
   "cell_type": "code",
   "execution_count": 8,
   "metadata": {
    "id": "KgAyy82gixIF",
    "pycharm": {
     "name": "#%%\n"
    }
   },
   "outputs": [
    {
     "name": "stdout",
     "output_type": "stream",
     "text": [
      "Num clusters: 5\n",
      "\n",
      "Silhouette score: 0.3845\n",
      "\n",
      "\n",
      "[0.7325, 0.7327, 0.627, 0.3817, 0.3633, 0.4045, 0.3046, 0.4839]\n",
      "75\n",
      "[0.3704, 0.3519, 0.2686, 0.0926, 0.0935, 0.094, 0.0792, 0.218]\n",
      "34\n",
      "[0.9035, 0.905, 0.7774, 0.6579, 0.5767, 0.6193, 0.5893, 0.7279]\n",
      "24\n",
      "[0.5692, 0.5628, 0.4376, 0.211, 0.2113, 0.2248, 0.1659, 0.317]\n",
      "54\n",
      "[0.1296, 0.1037, 0.1053, 0.0177, 0.0211, 0.0272, 0.0135, 0.0724]\n",
      "13\n"
     ]
    }
   ],
   "source": [
    "# Load debug data\n",
    "# Train on debug data\n",
    "# Print clusters\n",
    "def run_kmeans_debug():\n",
    "    raw_data = np.array(load_data(r\"https://raw.githubusercontent.com/cs472ta/CS472/master/datasets/abalone.arff\"))\n",
    "    normalized_data = normalize_data(raw_data)\n",
    "    kmeans_clustering = KMEANSClustering(k=5, debug=True)\n",
    "    kmeans_clustering.fit(normalized_data)\n",
    "    kmeans_clustering.print_clusters(num_decimals=4)\n",
    "\n",
    "run_kmeans_debug()"
   ]
  },
  {
   "cell_type": "markdown",
   "metadata": {
    "id": "-dM7dY52-Jep",
    "pycharm": {
     "name": "#%% md\n"
    }
   },
   "source": [
    "### 1.2.2 (15%) K-Means Evaluation\n",
    "\n",
    "We will evaluate your model based on its print_clusters() output using this [Evaluation Dataset](https://raw.githubusercontent.com/cs472ta/CS472/master/datasets/seismic-bumps_train.arff) using the *same* parameters as for Debug"
   ]
  },
  {
   "cell_type": "code",
   "execution_count": 9,
   "metadata": {
    "id": "iYDNgbmN-Jep",
    "pycharm": {
     "name": "#%%\n"
    }
   },
   "outputs": [
    {
     "name": "stdout",
     "output_type": "stream",
     "text": [
      "Num clusters: 5\n",
      "\n",
      "Silhouette score: 0.2769\n",
      "\n",
      "\n",
      "[0.5349, 0.6013, 0.4617, 0.5541, 0.5232, 0.5544, 0.6248, 1.0]\n",
      "22\n",
      "[0.3684, 0.4338, 0.4356, 0.4388, 0.3573, 0.2988, 0.3673, 0.0]\n",
      "31\n",
      "[0.3658, 0.3854, 0.7563, 0.3093, 0.4659, 0.3691, 0.2413, 0.0]\n",
      "20\n",
      "[0.1634, 0.2137, 0.3968, 0.2178, 0.1555, 0.3078, 0.1775, 0.0]\n",
      "19\n",
      "[0.7961, 0.831, 0.6054, 0.7709, 0.7802, 0.4553, 0.7919, 1.0]\n",
      "48\n"
     ]
    }
   ],
   "source": [
    "# Load evaluation data\n",
    "# Train on evaluation data\n",
    "# Print clusters\n",
    "def run_kmeans_evaluation():\n",
    "    raw_data = np.array(load_data(r\"https://raw.githubusercontent.com/cs472ta/CS472/master/datasets/seismic-bumps_train.arff\"))\n",
    "\n",
    "    def decode(value):\n",
    "        if type(value) == bytes:\n",
    "            return value.decode()\n",
    "        return value\n",
    "    decode_vectorized = np.vectorize(decode)\n",
    "    decoded_data = decode_vectorized(raw_data)\n",
    "    normalized_data = normalize_data(decoded_data)\n",
    "    kmeans_clustering = KMEANSClustering(k=5, debug=True)\n",
    "    kmeans_clustering.fit(normalized_data)\n",
    "    kmeans_clustering.print_clusters(num_decimals=4)\n",
    "\n",
    "run_kmeans_evaluation()"
   ]
  },
  {
   "cell_type": "markdown",
   "metadata": {
    "id": "9vWiTdlbR2Xh",
    "pycharm": {
     "name": "#%% md\n"
    }
   },
   "source": [
    "## 2. Iris Clustering with Both Alogrithms\n",
    "For both algorithms: \n",
    "- Don't include the output label as one of the input features\n",
    "- Normalize the data\n",
    "- Show your results for clusterings with *k* = 2-7.  \n",
    "- Graph the silhouette score for each *k* and discuss your results (i.e. what kind of clusters are being made).\n",
    "- Load this Iris Dataset [Iris Dataset](https://raw.githubusercontent.com/cs472ta/CS472/master/datasets/iris.arff)\n",
    "\n",
    "### 2.1 (10%) Iris Clustering with HAC\n",
    "\n",
    "- Use single-link and complete link clustering algorithms\n",
    "---"
   ]
  },
  {
   "cell_type": "code",
   "execution_count": 10,
   "metadata": {
    "id": "4SSoasDQSKXb",
    "pycharm": {
     "name": "#%%\n"
    }
   },
   "outputs": [
    {
     "name": "stdout",
     "output_type": "stream",
     "text": [
      "Single-link HAC Clustering with k = 2\n",
      "Num clusters: 2\n",
      "Silhouette score: 0.6864\n",
      "\n",
      "[5.006, 3.418, 1.464, 0.244]\n",
      "50\n",
      "[6.262, 2.872, 4.906, 1.676]\n",
      "100\n",
      "\n",
      "\n",
      "Single-link HAC Clustering with k = 3\n",
      "Num clusters: 3\n",
      "Silhouette score: 0.5118\n",
      "\n",
      "[5.006, 3.418, 1.464, 0.244]\n",
      "50\n",
      "[6.2306, 2.8531, 4.8724, 1.6673]\n",
      "98\n",
      "[7.8, 3.8, 6.55, 2.1]\n",
      "2\n",
      "\n",
      "\n",
      "Single-link HAC Clustering with k = 4\n",
      "Num clusters: 4\n",
      "Silhouette score: 0.2818\n",
      "\n",
      "[5.006, 3.418, 1.464, 0.244]\n",
      "50\n",
      "[6.2443, 2.8567, 4.8763, 1.667]\n",
      "97\n",
      "[4.9, 2.5, 4.5, 1.7]\n",
      "1\n",
      "[7.8, 3.8, 6.55, 2.1]\n",
      "2\n",
      "\n",
      "\n",
      "Single-link HAC Clustering with k = 5\n",
      "Num clusters: 5\n",
      "Silhouette score: 0.2835\n",
      "\n",
      "[5.006, 3.418, 1.464, 0.244]\n",
      "50\n",
      "[6.2978, 2.8806, 4.9452, 1.6946]\n",
      "93\n",
      "[5.0, 2.3, 3.275, 1.025]\n",
      "4\n",
      "[4.9, 2.5, 4.5, 1.7]\n",
      "1\n",
      "[7.8, 3.8, 6.55, 2.1]\n",
      "2\n",
      "\n",
      "\n",
      "Single-link HAC Clustering with k = 6\n",
      "Num clusters: 6\n",
      "Silhouette score: 0.2211\n",
      "\n",
      "[5.006, 3.418, 1.464, 0.244]\n",
      "50\n",
      "[6.288, 2.8728, 4.9326, 1.6859]\n",
      "92\n",
      "[5.0, 2.3, 3.275, 1.025]\n",
      "4\n",
      "[4.9, 2.5, 4.5, 1.7]\n",
      "1\n",
      "[7.2, 3.6, 6.1, 2.5]\n",
      "1\n",
      "[7.8, 3.8, 6.55, 2.1]\n",
      "2\n",
      "\n",
      "\n",
      "Single-link HAC Clustering with k = 7\n",
      "Num clusters: 7\n",
      "Silhouette score: 0.1314\n",
      "\n",
      "[5.0163, 3.4408, 1.4673, 0.2429]\n",
      "49\n",
      "[4.5, 2.3, 1.3, 0.3]\n",
      "1\n",
      "[6.288, 2.8728, 4.9326, 1.6859]\n",
      "92\n",
      "[5.0, 2.3, 3.275, 1.025]\n",
      "4\n",
      "[4.9, 2.5, 4.5, 1.7]\n",
      "1\n",
      "[7.2, 3.6, 6.1, 2.5]\n",
      "1\n",
      "[7.8, 3.8, 6.55, 2.1]\n",
      "2\n",
      "\n",
      "\n"
     ]
    },
    {
     "data": {
      "text/plain": "<Figure size 640x480 with 1 Axes>",
      "image/png": "[encoded data removed]"
     },
     "metadata": {},
     "output_type": "display_data"
    }
   ],
   "source": [
    "# Iris Clustering using single-link\n",
    "def run_hac_single_iris():\n",
    "    raw_data = np.array(load_data(r\"https://raw.githubusercontent.com/cs472ta/CS472/master/datasets/iris.arff\"))\n",
    "    data = raw_data[:,:-1]\n",
    "    k_array = [2, 3, 4, 5, 6, 7]\n",
    "    silhouette_scores = []\n",
    "    for i in k_array:\n",
    "        print(f\"Single-link HAC Clustering with k = {i}\")\n",
    "        hac_clustering = HACClustering(k=i, link_type=\"single\")\n",
    "        hac_clustering.fit(data)\n",
    "        hac_clustering.print_clusters(num_decimals=4)\n",
    "        silhouette_scores.append(hac_clustering.get_silhouette_score())\n",
    "        print()\n",
    "        print()\n",
    "    plt.plot(k_array, silhouette_scores)\n",
    "    plt.title(\"Silhouette Score by K-value\")\n",
    "    plt.xlabel(\"K-value\")\n",
    "    plt.ylabel(\"Silhouette Score\")\n",
    "    plt.show()\n",
    "\n",
    "run_hac_single_iris()"
   ]
  },
  {
   "cell_type": "code",
   "execution_count": 11,
   "metadata": {
    "id": "qrxjOxay-Jep",
    "pycharm": {
     "name": "#%%\n"
    }
   },
   "outputs": [
    {
     "name": "stdout",
     "output_type": "stream",
     "text": [
      "Complete-link HAC Clustering with k = 2\n",
      "Num clusters: 2\n",
      "Silhouette score: 0.5161\n",
      "\n",
      "[5.1949, 3.1372, 2.3603, 0.5974]\n",
      "78\n",
      "[6.5458, 2.9639, 5.2736, 1.85]\n",
      "72\n",
      "\n",
      "\n",
      "Complete-link HAC Clustering with k = 3\n",
      "Num clusters: 3\n",
      "Silhouette score: 0.5134\n",
      "\n",
      "[5.006, 3.418, 1.464, 0.244]\n",
      "50\n",
      "[6.5458, 2.9639, 5.2736, 1.85]\n",
      "72\n",
      "[5.5321, 2.6357, 3.9607, 1.2286]\n",
      "28\n",
      "\n",
      "\n",
      "Complete-link HAC Clustering with k = 4\n",
      "Num clusters: 4\n",
      "Silhouette score: 0.4996\n",
      "\n",
      "[5.006, 3.418, 1.464, 0.244]\n",
      "50\n",
      "[6.36, 2.9317, 5.0683, 1.81]\n",
      "60\n",
      "[5.5321, 2.6357, 3.9607, 1.2286]\n",
      "28\n",
      "[7.475, 3.125, 6.3, 2.05]\n",
      "12\n",
      "\n",
      "\n",
      "Complete-link HAC Clustering with k = 5\n",
      "Num clusters: 5\n",
      "Silhouette score: 0.3500\n",
      "\n",
      "[4.8103, 3.2, 1.3966, 0.2]\n",
      "29\n",
      "[5.2762, 3.719, 1.5571, 0.3048]\n",
      "21\n",
      "[6.36, 2.9317, 5.0683, 1.81]\n",
      "60\n",
      "[5.5321, 2.6357, 3.9607, 1.2286]\n",
      "28\n",
      "[7.475, 3.125, 6.3, 2.05]\n",
      "12\n",
      "\n",
      "\n",
      "Complete-link HAC Clustering with k = 6\n",
      "Num clusters: 6\n",
      "Silhouette score: 0.3421\n",
      "\n",
      "[4.8103, 3.2, 1.3966, 0.2]\n",
      "29\n",
      "[5.2762, 3.719, 1.5571, 0.3048]\n",
      "21\n",
      "[6.2395, 2.8421, 4.7974, 1.6053]\n",
      "38\n",
      "[5.5321, 2.6357, 3.9607, 1.2286]\n",
      "28\n",
      "[6.5682, 3.0864, 5.5364, 2.1636]\n",
      "22\n",
      "[7.475, 3.125, 6.3, 2.05]\n",
      "12\n",
      "\n",
      "\n",
      "Complete-link HAC Clustering with k = 7\n",
      "Num clusters: 7\n",
      "Silhouette score: 0.3336\n",
      "\n",
      "[4.8103, 3.2, 1.3966, 0.2]\n",
      "29\n",
      "[5.2762, 3.719, 1.5571, 0.3048]\n",
      "21\n",
      "[6.2395, 2.8421, 4.7974, 1.6053]\n",
      "38\n",
      "[5.6208, 2.6917, 4.075, 1.2625]\n",
      "24\n",
      "[5.0, 2.3, 3.275, 1.025]\n",
      "4\n",
      "[6.5682, 3.0864, 5.5364, 2.1636]\n",
      "22\n",
      "[7.475, 3.125, 6.3, 2.05]\n",
      "12\n",
      "\n",
      "\n"
     ]
    },
    {
     "data": {
      "text/plain": "<Figure size 640x480 with 1 Axes>",
      "image/png": "[encoded data removed]"
     },
     "metadata": {},
     "output_type": "display_data"
    }
   ],
   "source": [
    "# Iris Clustering using complete-link\n",
    "def run_hac_complete_iris():\n",
    "    raw_data = np.array(load_data(r\"https://raw.githubusercontent.com/cs472ta/CS472/master/datasets/iris.arff\"))\n",
    "    data = raw_data[:,:-1]\n",
    "    k_array = [2, 3, 4, 5, 6, 7]\n",
    "    silhouette_scores = []\n",
    "    for i in k_array:\n",
    "        print(f\"Complete-link HAC Clustering with k = {i}\")\n",
    "        hac_clustering = HACClustering(k=i, link_type=\"complete\")\n",
    "        hac_clustering.fit(data)\n",
    "        hac_clustering.print_clusters(num_decimals=4)\n",
    "        silhouette_scores.append(hac_clustering.get_silhouette_score())\n",
    "        print()\n",
    "        print()\n",
    "    plt.plot(k_array, silhouette_scores)\n",
    "    plt.title(\"Silhouette Score by K-value\")\n",
    "    plt.xlabel(\"K-value\")\n",
    "    plt.ylabel(\"Silhouette Score\")\n",
    "    plt.show()\n",
    "\n",
    "run_hac_complete_iris()"
   ]
  },
  {
   "cell_type": "markdown",
   "metadata": {
    "id": "GjkatnQY-Jep",
    "pycharm": {
     "name": "#%% md\n"
    }
   },
   "source": [
    "Discuss your results including the differences between single-link and complete-link"
   ]
  },
  {
   "cell_type": "markdown",
   "metadata": {
    "id": "DGfrL7p5-Jeq",
    "pycharm": {
     "name": "#%% md\n"
    }
   },
   "source": [
    "### 2.2 (10%) Iris Clustering with K-means"
   ]
  },
  {
   "cell_type": "code",
   "execution_count": 12,
   "metadata": {
    "id": "gigfanaW-Jeq",
    "pycharm": {
     "name": "#%%\n"
    }
   },
   "outputs": [
    {
     "name": "stdout",
     "output_type": "stream",
     "text": [
      "KMeans Clustering with k = 2\n",
      "Num clusters: 2\n",
      "\n",
      "Silhouette score: 0.6808\n",
      "\n",
      "\n",
      "[6.301, 2.8866, 4.9588, 1.6959]\n",
      "97\n",
      "[5.0057, 3.3604, 1.5623, 0.2887]\n",
      "53\n",
      "\n",
      "\n",
      "KMeans Clustering with k = 3\n",
      "Num clusters: 3\n",
      "\n",
      "Silhouette score: 0.5167\n",
      "\n",
      "\n",
      "[5.2167, 3.64, 1.4733, 0.28]\n",
      "30\n",
      "[4.7417, 2.9542, 1.7542, 0.3292]\n",
      "24\n",
      "[6.3146, 2.8958, 4.974, 1.7031]\n",
      "96\n",
      "\n",
      "\n",
      "KMeans Clustering with k = 4\n",
      "Num clusters: 4\n",
      "\n",
      "Silhouette score: 0.4185\n",
      "\n",
      "\n",
      "[5.2556, 3.6704, 1.5037, 0.2889]\n",
      "27\n",
      "[5.9016, 2.7484, 4.3935, 1.4339]\n",
      "62\n",
      "[6.85, 3.0737, 5.7421, 2.0711]\n",
      "38\n",
      "[4.713, 3.1217, 1.4174, 0.1913]\n",
      "23\n",
      "\n",
      "\n",
      "KMeans Clustering with k = 5\n",
      "Num clusters: 5\n",
      "\n",
      "Silhouette score: 0.4885\n",
      "\n",
      "\n",
      "[6.5292, 3.0583, 5.5083, 2.1625]\n",
      "24\n",
      "[7.475, 3.125, 6.3, 2.05]\n",
      "12\n",
      "[6.2077, 2.8538, 4.7462, 1.5641]\n",
      "39\n",
      "[5.006, 3.418, 1.464, 0.244]\n",
      "50\n",
      "[5.508, 2.6, 3.908, 1.204]\n",
      "25\n",
      "\n",
      "\n",
      "KMeans Clustering with k = 6\n",
      "Num clusters: 6\n",
      "\n",
      "Silhouette score: 0.3489\n",
      "\n",
      "\n",
      "[6.2366, 2.8585, 4.8073, 1.622]\n",
      "41\n",
      "[5.49, 3.92, 1.46, 0.26]\n",
      "10\n",
      "[4.69, 3.085, 1.385, 0.19]\n",
      "20\n",
      "[5.5296, 2.6222, 3.9407, 1.2185]\n",
      "27\n",
      "[6.9125, 3.1, 5.8469, 2.1312]\n",
      "32\n",
      "[5.08, 3.5, 1.545, 0.29]\n",
      "20\n",
      "\n",
      "\n",
      "KMeans Clustering with k = 7\n",
      "Num clusters: 7\n",
      "\n",
      "Silhouette score: 0.3553\n",
      "\n",
      "\n",
      "[5.2654, 3.6808, 1.5038, 0.2923]\n",
      "26\n",
      "[7.475, 3.125, 6.3, 2.05]\n",
      "12\n",
      "[4.7348, 3.1696, 1.4261, 0.187]\n",
      "23\n",
      "[6.5292, 3.0583, 5.5083, 2.1625]\n",
      "24\n",
      "[6.2077, 2.8538, 4.7462, 1.5641]\n",
      "39\n",
      "[4.5, 2.3, 1.3, 0.3]\n",
      "1\n",
      "[5.508, 2.6, 3.908, 1.204]\n",
      "25\n",
      "\n",
      "\n"
     ]
    },
    {
     "data": {
      "text/plain": "<Figure size 640x480 with 1 Axes>",
      "image/png": "[encoded data removed]"
     },
     "metadata": {},
     "output_type": "display_data"
    }
   ],
   "source": [
    "# Iris Clustering with K-means\n",
    "def run_kmeans_iris():\n",
    "    raw_data = np.array(load_data(r\"https://raw.githubusercontent.com/cs472ta/CS472/master/datasets/iris.arff\"))\n",
    "    data = raw_data[:, :-1]\n",
    "    k_array = [2, 3, 4, 5, 6, 7]\n",
    "    silhouette_scores = []\n",
    "    for i in k_array:\n",
    "        print(f\"KMeans Clustering with k = {i}\")\n",
    "        kmeans_clustering = KMEANSClustering(k=i)\n",
    "        kmeans_clustering.fit(data)\n",
    "        kmeans_clustering.print_clusters(num_decimals=4)\n",
    "        silhouette_scores.append(kmeans_clustering.get_silhouette_score())\n",
    "        print()\n",
    "        print()\n",
    "    plt.plot(k_array, silhouette_scores)\n",
    "    plt.title(\"Silhouette Score by K-value\")\n",
    "    plt.xlabel(\"K-value\")\n",
    "    plt.ylabel(\"Silhouette Score\")\n",
    "    plt.show()\n",
    "\n",
    "run_kmeans_iris()"
   ]
  },
  {
   "cell_type": "markdown",
   "metadata": {
    "id": "IELq_zlu-Jeq",
    "pycharm": {
     "name": "#%% md\n"
    }
   },
   "source": [
    "Discuss your results"
   ]
  },
  {
   "cell_type": "markdown",
   "metadata": {
    "id": "lVA-r3WV-Jeq",
    "pycharm": {
     "name": "#%% md\n"
    }
   },
   "source": [
    "### 2.3 (5%) K-means Initial Centroids Experiment\n",
    "\n",
    "- Run K-means 5 times with *k*=4, each time with different initial random centroids and discuss any variations in the results.\n",
    "- If you ever end up with any empty clusters in K-means, re-run with different initial centroids."
   ]
  },
  {
   "cell_type": "code",
   "execution_count": 13,
   "metadata": {
    "id": "jtXU14fU-Jer",
    "pycharm": {
     "name": "#%%\n"
    }
   },
   "outputs": [
    {
     "name": "stdout",
     "output_type": "stream",
     "text": [
      "KMeans Clustering with k = 5, iteration 0\n",
      "Num clusters: 4\n",
      "\n",
      "Silhouette score: 0.4951\n",
      "\n",
      "\n",
      "[6.2936, 2.9, 4.9511, 1.7298]\n",
      "47\n",
      "[7.087, 3.1261, 6.013, 2.1435]\n",
      "23\n",
      "[5.58, 2.6333, 3.9867, 1.2333]\n",
      "30\n",
      "[5.006, 3.418, 1.464, 0.244]\n",
      "50\n",
      "\n",
      "\n",
      "KMeans Clustering with k = 5, iteration 1\n",
      "Num clusters: 4\n",
      "\n",
      "Silhouette score: 0.4124\n",
      "\n",
      "\n",
      "[5.3706, 3.8, 1.5176, 0.2765]\n",
      "17\n",
      "[5.8836, 2.741, 4.3885, 1.4344]\n",
      "61\n",
      "[4.8182, 3.2212, 1.4364, 0.2273]\n",
      "33\n",
      "[6.8538, 3.0769, 5.7154, 2.0538]\n",
      "39\n",
      "\n",
      "\n",
      "KMeans Clustering with k = 5, iteration 2\n",
      "Num clusters: 4\n",
      "\n",
      "Silhouette score: 0.4972\n",
      "\n",
      "\n",
      "[5.006, 3.418, 1.464, 0.244]\n",
      "50\n",
      "[6.2366, 2.8585, 4.8073, 1.622]\n",
      "41\n",
      "[6.9125, 3.1, 5.8469, 2.1312]\n",
      "32\n",
      "[5.5296, 2.6222, 3.9407, 1.2185]\n",
      "27\n",
      "\n",
      "\n",
      "KMeans Clustering with k = 5, iteration 3\n",
      "Num clusters: 4\n",
      "\n",
      "Silhouette score: 0.4963\n",
      "\n",
      "\n",
      "[5.006, 3.418, 1.464, 0.244]\n",
      "50\n",
      "[5.5321, 2.6357, 3.9607, 1.2286]\n",
      "28\n",
      "[7.0148, 3.0963, 5.9185, 2.1556]\n",
      "27\n",
      "[6.2644, 2.8844, 4.8867, 1.6667]\n",
      "45\n",
      "\n",
      "\n",
      "KMeans Clustering with k = 5, iteration 4\n",
      "Num clusters: 4\n",
      "\n",
      "Silhouette score: 0.4974\n",
      "\n",
      "\n",
      "[6.2628, 2.8651, 4.8651, 1.6372]\n",
      "43\n",
      "[6.9655, 3.1103, 5.8793, 2.1655]\n",
      "29\n",
      "[5.006, 3.418, 1.464, 0.244]\n",
      "50\n",
      "[5.5321, 2.6357, 3.9607, 1.2286]\n",
      "28\n",
      "\n",
      "\n"
     ]
    }
   ],
   "source": [
    "#K-means 5 times\n",
    "def run_iris_centroid_experiment():\n",
    "    raw_data = np.array(load_data(r\"https://raw.githubusercontent.com/cs472ta/CS472/master/datasets/iris.arff\"))\n",
    "    data = raw_data[:, :-1]\n",
    "    for i in range(0, 5):\n",
    "        print(f\"KMeans Clustering with k = 5, iteration {i}\")\n",
    "        kmeans_clustering = KMEANSClustering(k=4)\n",
    "        kmeans_clustering.fit(data)\n",
    "        kmeans_clustering.print_clusters(num_decimals=4)\n",
    "        print()\n",
    "        print()\n",
    "\n",
    "run_iris_centroid_experiment()"
   ]
  },
  {
   "cell_type": "markdown",
   "metadata": {
    "id": "J7LlyNEZ-Jer",
    "pycharm": {
     "name": "#%% md\n"
    }
   },
   "source": [
    "Discuss any variations in the results"
   ]
  },
  {
   "cell_type": "markdown",
   "metadata": {
    "id": "oBBmeNQ7jvcQ",
    "pycharm": {
     "name": "#%% md\n"
    }
   },
   "source": [
    "## 3. Scikit-Learn Comparison\n",
    "\n",
    "### 3.1 (10%) Run the SK versions of HAC (just complete link) and K-means on Iris data set above\n",
    "\n",
    "- Report results for a couple values of *k*\n",
    "- Experiment using different hyper-parameters"
   ]
  },
  {
   "cell_type": "code",
   "execution_count": 14,
   "metadata": {
    "id": "OFQv70W2VyqJ",
    "pycharm": {
     "name": "#%%\n"
    }
   },
   "outputs": [
    {
     "name": "stdout",
     "output_type": "stream",
     "text": [
      "Complete link - n-clusters=2\n",
      "0.5160600757054667\n",
      "Complete link - n-clusters=3\n",
      "0.5133502348448076\n",
      "Complete link - n-clusters=4\n",
      "0.4995741149430846\n",
      "Complete link - n-clusters=5\n",
      "0.34999771139358965\n",
      "Complete link - n-clusters=6\n",
      "0.34205174735616767\n",
      "Complete link - n-clusters=7\n",
      "0.33362901571416487\n",
      "\n",
      "Ward link - n-clusters=2\n",
      "0.6863930543445408\n",
      "\n",
      "Ward link - n-clusters=3\n",
      "0.5540972908150553\n",
      "\n",
      "Average link - n-clusters=3\n",
      "0.5539343898551252\n",
      "\n",
      "L1 affinitiy, n-clusters=3, average link\n",
      "0.5533104830639192\n",
      "\n",
      "L2 affinitiy, n-clusters=3, average link\n",
      "0.5539343898551252\n",
      "KMeans\n",
      "n-clusters=2\n",
      "0.6808136202936816\n",
      "n-clusters=3\n",
      "0.5525919445499757\n",
      "n-clusters=4\n",
      "0.49511999553021513\n",
      "n-clusters=5\n",
      "0.3744919666758033\n",
      "n-clusters=6\n",
      "0.4816973410185572\n",
      "n-clusters=7\n",
      "0.31346815318400334\n",
      "\n",
      "n-clusters=3, number of different trial seeds=10, kmeans++ centroid initialization\n",
      "0.5525919445499757\n",
      "\n"
     ]
    }
   ],
   "source": [
    "# Load sklearn\n",
    "def run_sklearn_iris_hac():\n",
    "    raw_data = np.array(load_data(r\"https://raw.githubusercontent.com/cs472ta/CS472/master/datasets/iris.arff\"))\n",
    "    data = raw_data[:, :-1]\n",
    "\n",
    "    for i in range(2, 8):\n",
    "        print(f\"Complete link - n-clusters={i}\")\n",
    "        sklearn_hac = AgglomerativeClustering(n_clusters=i, linkage=\"complete\")\n",
    "        labels = sklearn_hac.fit_predict(data)\n",
    "        print(silhouette_score(data, labels))\n",
    "    print()\n",
    "\n",
    "    print(\"Ward link - n-clusters=2\")\n",
    "    sklearn_hac = AgglomerativeClustering(n_clusters=2, linkage=\"ward\")\n",
    "    labels = sklearn_hac.fit_predict(data)\n",
    "    print(silhouette_score(data, labels))\n",
    "    print()\n",
    "\n",
    "    print(\"Ward link - n-clusters=3\")\n",
    "    sklearn_hac = AgglomerativeClustering(n_clusters=3, linkage=\"ward\")\n",
    "    labels = sklearn_hac.fit_predict(data)\n",
    "    print(silhouette_score(data, labels))\n",
    "    print()\n",
    "\n",
    "    print(\"Average link - n-clusters=3\")\n",
    "    sklearn_hac = AgglomerativeClustering(n_clusters=3, linkage=\"average\")\n",
    "    labels = sklearn_hac.fit_predict(data)\n",
    "    print(silhouette_score(data, labels))\n",
    "    print()\n",
    "\n",
    "    print(\"L1 affinitiy, n-clusters=3, average link\")\n",
    "    sklearn_hac = AgglomerativeClustering(n_clusters=3, affinity='l1', linkage=\"average\")\n",
    "    labels = sklearn_hac.fit_predict(data)\n",
    "    print(silhouette_score(data, labels))\n",
    "    print()\n",
    "\n",
    "    print(\"L2 affinitiy, n-clusters=3, average link\")\n",
    "    sklearn_hac = AgglomerativeClustering(n_clusters=3, affinity='l2', linkage=\"average\")\n",
    "    labels = sklearn_hac.fit_predict(data)\n",
    "    print(silhouette_score(data, labels))\n",
    "\n",
    "\n",
    "def run_sklearn_iris_kmeans():\n",
    "    raw_data = np.array(load_data(r\"https://raw.githubusercontent.com/cs472ta/CS472/master/datasets/iris.arff\"))\n",
    "    data = raw_data[:, :-1]\n",
    "\n",
    "    print(\"KMeans\")\n",
    "    for i in range(2,8):\n",
    "        print(f\"n-clusters={i}\")\n",
    "        sklearn_kmeans = KMeans(n_clusters=i, n_init=1, init=\"random\")\n",
    "        labels = sklearn_kmeans.fit_predict(data)\n",
    "        print(silhouette_score(data, labels))\n",
    "    print()\n",
    "\n",
    "    print(\"n-clusters=3, number of different trial seeds=10, kmeans++ centroid initialization\")\n",
    "    sklearn_kmeans = KMeans(n_clusters=3)\n",
    "    labels = sklearn_kmeans.fit_predict(data)\n",
    "    print(silhouette_score(data, labels))\n",
    "    print()\n",
    "\n",
    "run_sklearn_iris_hac()\n",
    "run_sklearn_iris_kmeans()"
   ]
  },
  {
   "cell_type": "markdown",
   "metadata": {
    "id": "BqSFAXwlk3Ms",
    "pycharm": {
     "name": "#%% md\n"
    }
   },
   "source": [
    "*Discuss Results and Comparison with your versions of the algorithms. Discuss effects of different hyperparameters*"
   ]
  },
  {
   "cell_type": "markdown",
   "metadata": {
    "id": "PWXyGtuk-Jer",
    "pycharm": {
     "name": "#%% md\n"
    }
   },
   "source": [
    "### 3.2 (10%) Run the SK version of HAC (just complete link) and K-means on a dataset of your choice \n",
    "- Report results for a couple values of *k*\n",
    "- Experiment using different hyper-parameters"
   ]
  },
  {
   "cell_type": "code",
   "execution_count": 15,
   "metadata": {
    "id": "Iu510dby-Jer",
    "pycharm": {
     "name": "#%%\n"
    }
   },
   "outputs": [
    {
     "name": "stdout",
     "output_type": "stream",
     "text": [
      "Complete link - n-clusters=5\n",
      "0.6247438549348783\n",
      "Complete link - n-clusters=6\n",
      "0.4449368831094327\n",
      "Complete link - n-clusters=7\n",
      "0.44628789916054346\n",
      "Complete link - n-clusters=8\n",
      "0.4471359561570107\n",
      "Complete link - n-clusters=9\n",
      "0.43912066839416647\n",
      "Complete link - n-clusters=10\n",
      "0.44033018715539624\n",
      "Complete link - n-clusters=11\n",
      "0.44229934759367395\n",
      "\n",
      "Ward link - n-clusters=8\n",
      "0.3907018791143226\n",
      "\n",
      "Average link - n-clusters=8\n",
      "0.5529648044356759\n",
      "\n",
      "L1 affinitiy, n-clusters=8, average link\n",
      "0.4348161888430102\n",
      "\n",
      "L2 affinitiy, n-clusters=8, average link\n",
      "0.5529648044356759\n",
      "KMeans\n",
      "n-clusters=5\n",
      "0.35965204216643054\n",
      "n-clusters=6\n",
      "0.21106149290562415\n",
      "n-clusters=7\n",
      "-0.07420660950177287\n",
      "n-clusters=8\n",
      "-0.0025777992526888407\n",
      "n-clusters=9\n",
      "0.0810485814029367\n",
      "n-clusters=10\n",
      "0.13460771604477584\n",
      "n-clusters=11\n",
      "0.03330071811575288\n",
      "\n",
      "n-clusters=8, number of different trial seeds=10, kmeans++ centroid initialization\n",
      "0.3812050648087297\n",
      "\n"
     ]
    }
   ],
   "source": [
    "# Load sklearn\n",
    "def run_sklearn_texts_hac():\n",
    "    data = np.array(pd.read_csv(\"https://raw.githubusercontent.com/maclaurin36/CS472-clustering/master/AllBooks_baseline_DTM_Unlabelled.csv\"))\n",
    "    for i in range(5, 12):\n",
    "        print(f\"Complete link - n-clusters={i}\")\n",
    "        sklearn_hac = AgglomerativeClustering(n_clusters=i, linkage=\"complete\")\n",
    "        labels = sklearn_hac.fit_predict(data)\n",
    "        print(silhouette_score(data, labels))\n",
    "    print()\n",
    "\n",
    "    print(\"Ward link - n-clusters=8\")\n",
    "    sklearn_hac = AgglomerativeClustering(n_clusters=8, linkage=\"ward\")\n",
    "    labels = sklearn_hac.fit_predict(data)\n",
    "    print(silhouette_score(data, labels))\n",
    "    print()\n",
    "\n",
    "    print(\"Average link - n-clusters=8\")\n",
    "    sklearn_hac = AgglomerativeClustering(n_clusters=8, linkage=\"average\")\n",
    "    labels = sklearn_hac.fit_predict(data)\n",
    "    print(silhouette_score(data, labels))\n",
    "    print()\n",
    "\n",
    "    print(\"L1 affinitiy, n-clusters=8, average link\")\n",
    "    sklearn_hac = AgglomerativeClustering(n_clusters=8, affinity='l1', linkage=\"average\")\n",
    "    labels = sklearn_hac.fit_predict(data)\n",
    "    print(silhouette_score(data, labels))\n",
    "    print()\n",
    "\n",
    "    print(\"L2 affinitiy, n-clusters=8, average link\")\n",
    "    sklearn_hac = AgglomerativeClustering(n_clusters=8, affinity='l2', linkage=\"average\")\n",
    "    labels = sklearn_hac.fit_predict(data)\n",
    "    print(silhouette_score(data, labels))\n",
    "\n",
    "\n",
    "def run_sklearn_texts_kmeans():\n",
    "    data = np.array(pd.read_csv(\n",
    "        \"https://raw.githubusercontent.com/maclaurin36/CS472-clustering/master/AllBooks_baseline_DTM_Unlabelled.csv\"))\n",
    "    print(\"KMeans\")\n",
    "    for i in range(5,12):\n",
    "        print(f\"n-clusters={i}\")\n",
    "        sklearn_kmeans = KMeans(n_clusters=i, n_init=1, init=\"random\")\n",
    "        labels = sklearn_kmeans.fit_predict(data)\n",
    "        print(silhouette_score(data, labels))\n",
    "    print()\n",
    "\n",
    "    print(\"n-clusters=8, number of different trial seeds=10, kmeans++ centroid initialization\")\n",
    "    sklearn_kmeans = KMeans(n_clusters=8)\n",
    "    labels = sklearn_kmeans.fit_predict(data)\n",
    "    print(silhouette_score(data, labels))\n",
    "    print()\n",
    "\n",
    "run_sklearn_texts_hac()\n",
    "run_sklearn_texts_kmeans()"
   ]
  },
  {
   "cell_type": "markdown",
   "metadata": {
    "id": "T-oKHPPT-Jer",
    "pycharm": {
     "name": "#%% md\n"
    }
   },
   "source": [
    "*Discussion*"
   ]
  },
  {
   "cell_type": "markdown",
   "metadata": {
    "id": "cTlK-kijk8Mg",
    "pycharm": {
     "name": "#%% md\n"
    }
   },
   "source": [
    "## 4. (Optional 5% extra credit) Write your own code for silhouette\n",
    "If you do this option implement your code for silhouette above in your main implementation and use it for your experiments. Make it clear that the silhouette results come from your code. You may/should compare with the SK version to debug/verify your results."
   ]
  },
  {
   "cell_type": "markdown",
   "metadata": {
    "id": "ZtWj9ej2-Jes",
    "pycharm": {
     "name": "#%% md\n"
    }
   },
   "source": [
    "*Discussion*"
   ]
  }
 ],
 "metadata": {
  "colab": {
   "collapsed_sections": [],
   "provenance": []
  },
  "kernelspec": {
   "display_name": "Python 3",
   "language": "python",
   "name": "python3"
  },
  "language_info": {
   "codemirror_mode": {
    "name": "ipython",
    "version": 3
   },
   "file_extension": ".py",
   "mimetype": "text/x-python",
   "name": "python",
   "nbconvert_exporter": "python",
   "pygments_lexer": "ipython3",
   "version": "3.6.9"
  }
 },
 "nbformat": 4,
 "nbformat_minor": 0
}