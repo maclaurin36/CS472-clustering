{
 "cells": [
  {
   "cell_type": "markdown",
   "metadata": {
    "id": "DVL7_bgmIAPR",
    "pycharm": {
     "name": "#%% md\n"
    }
   },
   "source": [
    "# Unsupervised Learning: Clustering Lab\n",
    "\n",
    "\n",
    "\n"
   ]
  },
  {
   "cell_type": "code",
   "execution_count": 82,
   "metadata": {
    "id": "6ZbYjZZZ_yLV",
    "pycharm": {
     "name": "#%%\n"
    }
   },
   "outputs": [],
   "source": [
    "import math\n",
    "import random\n",
    "\n",
    "from sklearn.base import BaseEstimator, ClassifierMixin, ClusterMixin\n",
    "from sklearn.cluster import AgglomerativeClustering, KMeans\n",
    "from sklearn.metrics import silhouette_score\n",
    "import numpy as np\n",
    "import matplotlib.pyplot as plt\n",
    "\n",
    "import urllib.request\n",
    "import io\n",
    "from scipy.io import arff\n",
    "import pandas as pd\n",
    "\n",
    "from collections import Counter"
   ]
  },
  {
   "cell_type": "code",
   "execution_count": 2,
   "outputs": [],
   "source": [
    "# Utility functions\n",
    "def load_data(url: str):\n",
    "    ftp_stream = urllib.request.urlopen(url)\n",
    "    data, meta = arff.loadarff(io.StringIO(ftp_stream.read().decode('utf-8')))\n",
    "    data_frame = pd.DataFrame(data)\n",
    "    return data_frame\n",
    "\n",
    "def normalize_data(array):\n",
    "    new_array = array.copy()\n",
    "    _, num_cols = array.shape\n",
    "\n",
    "    def normalize(value):\n",
    "        return (value - cur_col_min) / float(cur_col_max - cur_col_min)\n",
    "\n",
    "    for i in range(0, num_cols):\n",
    "        cur_col = array[:, i]\n",
    "        cur_col_max = np.max(cur_col)\n",
    "        cur_col_min = np.min(cur_col)\n",
    "        normalize_vectorized = np.vectorize(normalize)\n",
    "        new_array[:, i] = normalize_vectorized(cur_col)\n",
    "    return new_array\n",
    "\n",
    "# Utility classes\n",
    "class Point:\n",
    "    def __init__(self, data):\n",
    "        self.data = data\n",
    "\n",
    "    def get_distance_to(self, point2):\n",
    "        dist_squared_sum = 0\n",
    "        for i in range(0, len(self.data)):\n",
    "            dist_squared_sum += (pow(self.data[i] - point2.data[i], 2))\n",
    "        return math.sqrt(dist_squared_sum)"
   ],
   "metadata": {
    "collapsed": false,
    "pycharm": {
     "name": "#%%\n"
    }
   }
  },
  {
   "cell_type": "markdown",
   "metadata": {
    "id": "sCcEPx5VIORj",
    "pycharm": {
     "name": "#%% md\n"
    }
   },
   "source": [
    "## 1. Implement the HAC and K-means algorithms\n",
    "For both algorithms:\n",
    "- Use euclidean distance as the distance metric\n",
    "- You only need to handle continuous features, but think about how you would handle nominal and unknown data\n",
    "---\n",
    "When reporting the results of each algorithm, include the following:\n",
    "- The number of clusters (*k*)\n",
    "- The silhouette score of the full clustering (You can either write and use your own silhouette_score function (extra credit) or use sklearn's)\n",
    "\n",
    "For each cluster include:\n",
    "- The vectors of points representing the cluster centroid\n",
    "- The number of instances tied to that centroid\n",
    "---\n",
    "\n",
    "### 1.1 HAC (Hierarchical Agglomerative Clustering)\n",
    "\n",
    "### HAC Code requirements \n",
    "- HAC should support both single link and complete link options.\n",
    "- HAC automatically generates all clusterings from *n* to 1.  To reduce the amount of output implement a mechanism to specify for which *k* values actual output will be generated."
   ]
  },
  {
   "cell_type": "code",
   "execution_count": 3,
   "metadata": {
    "id": "_a2KSZ_7AN0G",
    "pycharm": {
     "name": "#%%\n"
    }
   },
   "outputs": [],
   "source": [
    "class HacCluster:\n",
    "    def __init__(self, point):\n",
    "        self.points = [point]\n",
    "\n",
    "    def get_complete_link_distance(self, cluster2):\n",
    "        max_distance = 0\n",
    "        for i in range(0, len(self.points)):\n",
    "            cluster1_point = self.points[i]\n",
    "            for j in range(0, len(cluster2.points)):\n",
    "                cluster2_point = cluster2.points[j]\n",
    "                distance = cluster1_point.get_distance_to(cluster2_point)\n",
    "                if distance > max_distance:\n",
    "                    max_distance = distance\n",
    "        return max_distance\n",
    "\n",
    "    def get_single_link_distance(self, cluster2):\n",
    "        min_distance = np.inf\n",
    "        for i in range(0, len(self.points)):\n",
    "            cluster1_point = self.points[i]\n",
    "            for j in range(0, len(cluster2.points)):\n",
    "                cluster2_point = cluster2.points[j]\n",
    "                distance = cluster1_point.get_distance_to(cluster2_point)\n",
    "                if distance < min_distance:\n",
    "                    min_distance = distance\n",
    "        return min_distance\n",
    "\n",
    "    def merge(self, cluster2):\n",
    "        self.points.extend(cluster2.points)\n",
    "\n",
    "    def get_centroid(self, num_decimals=None):\n",
    "        avg_point = [0] * len(self.points[0].data)\n",
    "        for point in self.points:\n",
    "            for j in range(0, len(self.points[0].data)):\n",
    "                avg_point[j] += point.data[j]\n",
    "        for i in range(0, len(avg_point)):\n",
    "            avg_point[i] /= len(self.points)\n",
    "            if num_decimals is not None:\n",
    "                avg_point[i] = round(avg_point[i], num_decimals)\n",
    "        return avg_point\n",
    "\n",
    "\n",
    "class HACClustering(BaseEstimator, ClusterMixin):\n",
    "\n",
    "    def __init__(self, k=3, link_type='single'):  ## add parameters here\n",
    "        \"\"\"\n",
    "        Args:\n",
    "            k = how many final clusters to have\n",
    "            link_type = single or complete. when combining two clusters use complete link or single link\n",
    "        \"\"\"\n",
    "        self.link_type = link_type\n",
    "        self.k = k\n",
    "        self.clusters = []\n",
    "        self.data = []\n",
    "\n",
    "    def fit(self, data):\n",
    "        \"\"\" Fit the data; In this lab this will make the K clusters :D\n",
    "        Args:\n",
    "            X (array-like): A 2D numpy array with the training data\n",
    "            y (array-like): An optional argument. Clustering is usually unsupervised so you don't need labels\n",
    "        Returns:\n",
    "            self: this allows this to be chained, e.g. model.fit(X,y).predict(X_test)\n",
    "        \"\"\"\n",
    "        self.initialize_clusters(data)\n",
    "        while len(self.clusters) > self.k:\n",
    "            cluster_index1, cluster_index2 = self.find_nearest_clusters()\n",
    "            self.merge_clusters(cluster_index1, cluster_index2)\n",
    "        return self\n",
    "\n",
    "    def print_clusters(self, num_decimals=None):\n",
    "        \"\"\"\n",
    "            Used for grading.\n",
    "            print(\"Num clusters: {:d}\\n\".format(k))\n",
    "            print(\"Silhouette score: {:.4f}\\n\\n\".format(silhouette_score))\n",
    "            for each cluster and centroid:\n",
    "                print(np.array2string(centroid,precision=4,separator=\",\"))\n",
    "                print(\"{:d}\\n\".format(size of cluster))\n",
    "        \"\"\"\n",
    "        print(\"Num clusters: {:d}\".format(self.k))\n",
    "        print(\"Silhouette score: {:.4f}\\n\".format(self.get_silhouette_score()))\n",
    "        for cluster in self.clusters:\n",
    "            print(cluster.get_centroid(num_decimals=num_decimals))\n",
    "            print(len(cluster.points))\n",
    "\n",
    "    def initialize_clusters(self, data):\n",
    "        self.data = data\n",
    "        self.clusters = []\n",
    "        for row in data:\n",
    "            point = Point(row)\n",
    "            cluster = HacCluster(point)\n",
    "            self.clusters.append(cluster)\n",
    "\n",
    "    def find_nearest_clusters(self):\n",
    "        min_distance = np.inf\n",
    "        cluster_indices = (-1, -1)\n",
    "        for cluster1_index in range(0, len(self.clusters)):\n",
    "            for cluster2_index in range(cluster1_index + 1, len(self.clusters)):\n",
    "                cluster1 = self.clusters[cluster1_index]\n",
    "                cluster2 = self.clusters[cluster2_index]\n",
    "                distance_between = self.get_distance(cluster1, cluster2)\n",
    "                if distance_between < min_distance:\n",
    "                    min_distance = distance_between\n",
    "                    cluster_indices = (cluster1_index, cluster2_index)\n",
    "        return cluster_indices\n",
    "\n",
    "    def get_distance(self, cluster1, cluster2):\n",
    "        if self.link_type == 'single':\n",
    "            return cluster1.get_single_link_distance(cluster2)\n",
    "        else:\n",
    "            return cluster1.get_complete_link_distance(cluster2)\n",
    "\n",
    "    def merge_clusters(self, cluster1_index, cluster2_index):\n",
    "        cluster1 = self.clusters[cluster1_index]\n",
    "        cluster2 = self.clusters[cluster2_index]\n",
    "        cluster1.merge(cluster2)\n",
    "        del self.clusters[cluster2_index]\n",
    "\n",
    "    def get_silhouette_score(self):\n",
    "        classified_data = []\n",
    "        classifications = []\n",
    "        for i, cluster in enumerate(self.clusters):\n",
    "            for point in cluster.points:\n",
    "                classified_data.append(point.data)\n",
    "            cluster_classifications = [i] * len(cluster.points)\n",
    "            classifications.extend(cluster_classifications)\n",
    "        return silhouette_score(X=classified_data, labels=classifications)"
   ]
  },
  {
   "cell_type": "markdown",
   "metadata": {
    "id": "KibCIXIThpbE",
    "pycharm": {
     "name": "#%% md\n"
    }
   },
   "source": [
    "### 1.1.1 (15%) Debug \n",
    "\n",
    "Debug your model by running it on the [Debug Dataset](https://raw.githubusercontent.com/cs472ta/CS472/master/datasets/abalone.arff)\n",
    "\n",
    "\n",
    "---\n",
    "The dataset was modified to be smaller. The last datapoint should be on line 359 or the point 0.585,0.46,0.185,0.922,0.3635,0.213,0.285,10. The remaining points are commented out.\n",
    "\n",
    "- Include the output class (last column) as an additional input feature\n",
    "- Normalize Data--attributes should be normalized using the formula (x-xmin)/(xmax-xmin). Do this exact normalization rather than call the scikit normalization, else you will not get the same answers as us.\n",
    "- Report results for *k* = 5\n",
    "- Use 4 decimal places and DO NOT ROUND when reporting silhouette score and centroid values.\n",
    "\n",
    "---\n",
    "Solutions in files:\n",
    "\n",
    "[Debug HAC Single (Silhouette).txt](https://raw.githubusercontent.com/cs472ta/CS472/master/debug_solutions/Debug%20HAC%20Single%20Link%20%28Silhouette%29.txt)\n",
    "\n",
    "[Debug HAC Complete (Silhouette).txt](https://raw.githubusercontent.com/cs472ta/CS472/master/debug_solutions/Debug%20HAC%20Complete%20Link%20%28Silhouette%29.txt)"
   ]
  },
  {
   "cell_type": "code",
   "execution_count": 16,
   "metadata": {
    "pycharm": {
     "name": "#%%\n"
    }
   },
   "outputs": [
    {
     "name": "stdout",
     "output_type": "stream",
     "text": [
      "Single debug\n",
      "Num clusters: 5\n",
      "Silhouette score: 0.3453\n",
      "\n",
      "[0.599, 0.5923, 0.4915, 0.2826, 0.2682, 0.2921, 0.2316, 0.3849]\n",
      "195\n",
      "[0.9189, 0.9438, 0.7105, 0.7016, 0.759, 0.7222, 0.4472, 0.8824]\n",
      "1\n",
      "[1.0, 0.9831, 0.8026, 0.8343, 0.6575, 0.7825, 0.9221, 0.8824]\n",
      "2\n",
      "[1.0, 0.9888, 0.7895, 1.0, 1.0, 0.8915, 0.7186, 0.5882]\n",
      "1\n",
      "[0.9189, 0.9888, 0.8684, 0.719, 0.5797, 0.7512, 0.6432, 0.9412]\n",
      "1\n"
     ]
    }
   ],
   "source": [
    "# Debug Here\n",
    "def run_single_debug():\n",
    "    raw_data = np.array(load_data(r\"https://raw.githubusercontent.com/cs472ta/CS472/master/datasets/abalone.arff\"))\n",
    "    normalized_data = normalize_data(raw_data)\n",
    "    hac_clustering = HACClustering(k=5, link_type=\"single\")\n",
    "    hac_clustering.fit(normalized_data)\n",
    "    hac_clustering.print_clusters(num_decimals=4)\n",
    "\n",
    "print(\"Single debug\")\n",
    "run_single_debug()"
   ]
  },
  {
   "cell_type": "code",
   "execution_count": 17,
   "outputs": [
    {
     "name": "stdout",
     "output_type": "stream",
     "text": [
      "Complete debug\n",
      "Num clusters: 5\n",
      "Silhouette score: 0.3095\n",
      "\n",
      "[0.6544, 0.649, 0.5256, 0.2879, 0.2815, 0.3057, 0.2288, 0.3911]\n",
      "71\n",
      "[0.3661, 0.3505, 0.271, 0.1008, 0.1024, 0.1058, 0.0836, 0.2116]\n",
      "67\n",
      "[0.7622, 0.7658, 0.6759, 0.4265, 0.4016, 0.4536, 0.3376, 0.5217]\n",
      "38\n",
      "[0.8818, 0.8904, 0.7582, 0.614, 0.5433, 0.5317, 0.561, 0.7794]\n",
      "16\n",
      "[0.9471, 0.934, 0.8158, 0.7457, 0.6434, 0.7944, 0.6457, 0.625]\n",
      "8\n"
     ]
    }
   ],
   "source": [
    "def run_complete_debug():\n",
    "    raw_data = np.array(load_data(r\"https://raw.githubusercontent.com/cs472ta/CS472/master/datasets/abalone.arff\"))\n",
    "    normalized_data = normalize_data(raw_data)\n",
    "    hac_clustering = HACClustering(k=5, link_type=\"complete\")\n",
    "    hac_clustering.fit(normalized_data)\n",
    "    hac_clustering.print_clusters(num_decimals=4)\n",
    "print(\"Complete debug\")\n",
    "run_complete_debug()"
   ],
   "metadata": {
    "collapsed": false,
    "pycharm": {
     "name": "#%%\n"
    }
   }
  },
  {
   "cell_type": "markdown",
   "metadata": {
    "pycharm": {
     "name": "#%% md\n"
    }
   },
   "source": [
    "Discussion\n",
    "My HAC algorithm consisted of the following:\n",
    "1. Create an initial cluster for each point\n",
    "2. While the number of clusters is greater than the target number of clusters\n",
    "3. Find the two closest clusters and merge them\n",
    "\n",
    "To implement the algorithm, I created two additional classes, a HAC cluster and a point. The point was used to abstract away finding the distances between rows in the datasets. The cluster holds a list of points and includes the functionality of merging itself with another cluster, calculating its centroid, and getting its distance to another cluster using single or complete link. I utilized sklearn's silhouette score calculator.\n",
    "\n",
    "After running the algorithm on the debug dataset, I found that single link gives a higher silhouette score than complete link, which generally performs better at clustering strands or continuous groups rather than spherical-like groups. Single link also groups almost all the data points into a single cluster leaving single points to other clusters while complete link provides clusters with more evenly distributed points. I imagine that the data points identified in their own clusters in single link are probably outliers. When looking at the dataset description, there were a few samples taken that belonged to their own output class."
   ]
  },
  {
   "cell_type": "markdown",
   "metadata": {
    "id": "kY3VNB1ui03N",
    "pycharm": {
     "name": "#%% md\n"
    }
   },
   "source": [
    "### 1.1.2 (15%) Evaluation\n",
    "\n",
    "We will evaluate your model based on its print_clusters() output using this [Evaluation Dataset](https://raw.githubusercontent.com/cs472ta/CS472/master/datasets/seismic-bumps_train.arff) using the *same* parameters as for Debug"
   ]
  },
  {
   "cell_type": "markdown",
   "metadata": {
    "id": "Gg1UE0p3-Jen",
    "pycharm": {
     "name": "#%% md\n"
    }
   },
   "source": [
    "#### Complete Link"
   ]
  },
  {
   "cell_type": "code",
   "execution_count": 5,
   "metadata": {
    "id": "2yAxA78QjDh2",
    "pycharm": {
     "name": "#%%\n"
    }
   },
   "outputs": [
    {
     "name": "stdout",
     "output_type": "stream",
     "text": [
      "Num clusters: 5\n",
      "Silhouette score: 0.2930\n",
      "\n",
      "[0.3636, 0.4107, 0.5609, 0.3857, 0.3937, 0.2808, 0.3155, 0.0]\n",
      "49\n",
      "[0.3471, 0.3622, 0.7897, 0.279, 0.441, 0.8568, 0.2234, 0.0]\n",
      "3\n",
      "[0.1656, 0.2226, 0.3509, 0.2328, 0.152, 0.3424, 0.1918, 0.0]\n",
      "18\n",
      "[0.7918, 0.8268, 0.606, 0.7669, 0.7787, 0.4634, 0.7877, 1.0]\n",
      "49\n",
      "[0.5326, 0.6002, 0.4536, 0.5531, 0.5144, 0.5401, 0.6266, 1.0]\n",
      "21\n"
     ]
    }
   ],
   "source": [
    "# Load evaluation data\n",
    "# Train on evaluation data using complete link\n",
    "# Print clusters\n",
    "def run_hac_complete_eval():\n",
    "    raw_data = np.array(load_data(r\"https://raw.githubusercontent.com/cs472ta/CS472/master/datasets/seismic-bumps_train.arff\"))\n",
    "\n",
    "    def decode(value):\n",
    "        if type(value) == bytes:\n",
    "            return value.decode()\n",
    "        return value\n",
    "    decode_vectorized = np.vectorize(decode)\n",
    "    decoded_data = decode_vectorized(raw_data)\n",
    "    normalized_data = normalize_data(decoded_data)\n",
    "    hac_clustering = HACClustering(k=5, link_type=\"complete\")\n",
    "    hac_clustering.fit(normalized_data)\n",
    "    hac_clustering.print_clusters(num_decimals=4)\n",
    "\n",
    "run_hac_complete_eval()"
   ]
  },
  {
   "cell_type": "markdown",
   "metadata": {
    "id": "pQVABkYL-Jeo",
    "pycharm": {
     "name": "#%% md\n"
    }
   },
   "source": [
    "#### Single Link"
   ]
  },
  {
   "cell_type": "code",
   "execution_count": 6,
   "metadata": {
    "id": "PxJ0DA92-Jeo",
    "pycharm": {
     "name": "#%%\n"
    }
   },
   "outputs": [
    {
     "name": "stdout",
     "output_type": "stream",
     "text": [
      "Num clusters: 5\n",
      "Silhouette score: 0.3971\n",
      "\n",
      "[0.3159, 0.3648, 0.5145, 0.349, 0.3338, 0.3077, 0.2868, 0.0]\n",
      "67\n",
      "[0.2774, 0.2597, 1.0, 0.1224, 0.4505, 0.7549, 0.129, 0.0]\n",
      "1\n",
      "[0.3065, 0.3333, 0.6979, 0.2792, 0.3787, 1.0, 0.2373, 0.0]\n",
      "1\n",
      "[0.0884, 0.1818, 0.0, 0.145, 0.1538, 0.1245, 0.0, 0.0]\n",
      "1\n",
      "[0.714, 0.7588, 0.5603, 0.7028, 0.6994, 0.4864, 0.7393, 1.0]\n",
      "70\n"
     ]
    }
   ],
   "source": [
    "# Load evaluation data\n",
    "# Train on evaluation data using single link\n",
    "# Print clusters\n",
    "def run_hac_single_eval():\n",
    "    raw_data = np.array(load_data(r\"https://raw.githubusercontent.com/cs472ta/CS472/master/datasets/seismic-bumps_train.arff\"))\n",
    "\n",
    "    def decode(value):\n",
    "        if type(value) == bytes:\n",
    "            return value.decode()\n",
    "        return value\n",
    "    decode_vectorized = np.vectorize(decode)\n",
    "    decoded_data = decode_vectorized(raw_data)\n",
    "    normalized_data = normalize_data(decoded_data)\n",
    "    hac_clustering = HACClustering(k=5, link_type=\"single\")\n",
    "    hac_clustering.fit(normalized_data)\n",
    "    hac_clustering.print_clusters(num_decimals=4)\n",
    "\n",
    "run_hac_single_eval()"
   ]
  },
  {
   "cell_type": "markdown",
   "metadata": {
    "pycharm": {
     "name": "#%% md\n"
    }
   },
   "source": [
    "Discussion\n",
    "In the evaluation dataset, it looks like there are two roughly distinct spherical-like groups. Almost all the points were classified in those two groups and were roughly evenly split with a few outlier cluster classifications. The complete-link algorithm gave a better silhouette score than the single link algorithm. The single link algorithm  more evenly distributed the points among the clusters, but there were also two groups that had a higher percentage of the data points with differing output classes. I imagine that if I were to re-run the algorithm, I would achieve a higher silhouette score if only using 2 clusters and the complete link algorithm. Generally the points grouped into the output class of one had higher feature values than those with an output class of zero with the largest distance in the final feature. This makes sense when looking at the features as generally if there were more seismic bumps or energy in the previous shift, I would expect there to be more energy generally in the next shift."
   ]
  },
  {
   "cell_type": "markdown",
   "metadata": {
    "id": "ougZHjiL-Jeo",
    "pycharm": {
     "name": "#%% md\n"
    }
   },
   "source": [
    "### 1.2 K-means\n",
    "\n",
    "### Code requirements \n",
    "- Ability to choose *k* and specify the *k* initial centroids\n",
    "- Ability to handle distance ties--when a node or cluster has the same distance to another cluster, which should be rare, choose the earliest cluster in your list"
   ]
  },
  {
   "cell_type": "code",
   "execution_count": 7,
   "metadata": {
    "id": "wNeVvoZl-Jeo",
    "pycharm": {
     "name": "#%%\n"
    }
   },
   "outputs": [],
   "source": [
    "class KMeansCluster:\n",
    "    def __init__(self, point):\n",
    "        self.points = []\n",
    "        self.centroid = point\n",
    "        self.previous_centroid = None\n",
    "\n",
    "    def add_point(self, point):\n",
    "        self.points.append(point)\n",
    "\n",
    "    def clear_points(self):\n",
    "        self.points = []\n",
    "\n",
    "    def get_centroid(self, num_decimals=None):\n",
    "        avg_point = [0] * len(self.points[0].data)\n",
    "        for point in self.points:\n",
    "            for j in range(0, len(self.points[0].data)):\n",
    "                avg_point[j] += point.data[j]\n",
    "        for i in range(0, len(avg_point)):\n",
    "            avg_point[i] /= len(self.points)\n",
    "            if num_decimals is not None:\n",
    "                avg_point[i] = round(avg_point[i], num_decimals)\n",
    "        return avg_point\n",
    "\n",
    "    def set_centroid(self):\n",
    "        centroid = self.get_centroid()\n",
    "        self.previous_centroid = Point(self.centroid.data)\n",
    "        self.centroid = Point(centroid)\n",
    "        return centroid\n",
    "\n",
    "    def check_changed(self):\n",
    "        if self.previous_centroid is None:\n",
    "            return True\n",
    "\n",
    "        for i in range(0, len(self.centroid.data)):\n",
    "            if self.centroid.data[i] != self.previous_centroid.data[i]:\n",
    "                return True\n",
    "        return False\n",
    "\n",
    "class KMEANSClustering(BaseEstimator, ClusterMixin):\n",
    "\n",
    "    def __init__(self, k=3, debug=False):  ## add parameters here\n",
    "        \"\"\"\n",
    "        Args:\n",
    "            k = how many final clusters to have\n",
    "            debug = if debug is true use the first k instances as the initial centroids otherwise choose random points as the initial centroids.\n",
    "        \"\"\"\n",
    "        self.k = k\n",
    "        self.debug = debug\n",
    "        self.clusters = []\n",
    "        self.data = []\n",
    "        self.raw_data = []\n",
    "\n",
    "    def fit(self, X):\n",
    "        \"\"\" Fit the data; In this lab this will make the K clusters :D\n",
    "        Args:\n",
    "            X (array-like): A 2D numpy array with the training data\n",
    "            y (array-like): An optional argument. Clustering is usually unsupervised so you don't need labels\n",
    "        Returns:\n",
    "            self: this allows this to be chained, e.g. model.fit(X,y).predict(X_test)\n",
    "        \"\"\"\n",
    "        self.initialize_points(X)\n",
    "        self.initialize_clusters()\n",
    "        converged = False\n",
    "        while not converged:\n",
    "            self.group_cluster_points()\n",
    "            converged = self.check_converged()\n",
    "            if not converged:\n",
    "                self.reset_cluster_points()\n",
    "        return self\n",
    "\n",
    "    def initialize_points(self, X):\n",
    "        self.data = []\n",
    "        for row in X:\n",
    "            self.data.append(Point(row))\n",
    "\n",
    "    def initialize_clusters(self):\n",
    "        self.clusters = []\n",
    "        if self.debug:\n",
    "            for i in range(0, self.k):\n",
    "                self.clusters.append(KMeansCluster(self.data[i]))\n",
    "        else:\n",
    "            selection_data = self.data.copy()\n",
    "            for i in range(0, self.k):\n",
    "                point_index = random.randint(0, len(selection_data) - 1)\n",
    "                self.clusters.append(KMeansCluster(selection_data[point_index]))\n",
    "                selection_data = np.delete(selection_data, point_index, 0)\n",
    "\n",
    "    def reset_cluster_points(self):\n",
    "        for cluster in self.clusters:\n",
    "            cluster.set_centroid()\n",
    "            cluster.clear_points()\n",
    "\n",
    "    def group_cluster_points(self):\n",
    "        for point_index, data_point in enumerate(self.data):\n",
    "            min_distance = np.inf\n",
    "            min_cluster_index = -1\n",
    "            for i, cluster in enumerate(self.clusters):\n",
    "                distance_to_centroid = data_point.get_distance_to(cluster.centroid)\n",
    "                if distance_to_centroid < min_distance:\n",
    "                    min_distance = distance_to_centroid\n",
    "                    min_cluster_index = i\n",
    "            self.clusters[min_cluster_index].add_point(data_point)\n",
    "\n",
    "    def check_converged(self):\n",
    "        for cluster in self.clusters:\n",
    "            cluster_changed = cluster.check_changed()\n",
    "            if cluster_changed:\n",
    "                return False\n",
    "        return True\n",
    "\n",
    "    def print_clusters(self, num_decimals=None):\n",
    "        \"\"\"\n",
    "            Used for grading.\n",
    "            print(\"Num clusters: {:d}\\n\".format(k))\n",
    "            print(\"Silhouette score: {:.4f}\\n\\n\".format(silhouette_score))\n",
    "            for each cluster and centroid:\n",
    "                print(np.array2string(centroid,precision=4,separator=\",\"))\n",
    "                print(\"{:d}\\n\".format(size of cluster))\n",
    "        \"\"\"\n",
    "        print(\"Num clusters: {:d}\\n\".format(self.k))\n",
    "        print(\"Silhouette score: {:.4f}\\n\\n\".format(self.get_silhouette_score()))\n",
    "        for cluster in self.clusters:\n",
    "            print(cluster.get_centroid(num_decimals=num_decimals))\n",
    "            print(len(cluster.points))\n",
    "\n",
    "    def get_silhouette_score(self):\n",
    "        classified_data = []\n",
    "        classifications = []\n",
    "        for i, cluster in enumerate(self.clusters):\n",
    "            for point in cluster.points:\n",
    "                classified_data.append(point.data)\n",
    "            cluster_classifications = [i] * len(cluster.points)\n",
    "            classifications.extend(cluster_classifications)\n",
    "        return silhouette_score(X=classified_data, labels=classifications)"
   ]
  },
  {
   "cell_type": "markdown",
   "metadata": {
    "id": "sVZID7Nf-Jeo",
    "pycharm": {
     "name": "#%% md\n"
    }
   },
   "source": [
    "### 1.2.1 (10%) K-Means Debug \n",
    "\n",
    "Debug your model by running it on the [Debug Dataset](https://raw.githubusercontent.com/cs472ta/CS472/master/datasets/abalone.arff)\n",
    "\n",
    "- Train until convergence\n",
    "- Make sure to include the output class (last column) as an additional input feature\n",
    "- Normalize Data--attributes should be normalized using the formula (x-xmin)/(xmax-xmin). Do this exact normalization rather than call the scikit nomralization, else you will not get the same answers as us.\n",
    "- Use *k* = 5\n",
    "- Use the first *k* instances in the training set as the initial centroids\n",
    "- Use 4 decimal places and DO NOT ROUND when reporting silhouette score and centroid values\n",
    "\n",
    "---\n",
    "Solution in file:\n",
    "\n",
    "[Debug K Means (Silhouette).txt](https://raw.githubusercontent.com/cs472ta/CS472/master/debug_solutions/Debug%20K%20Means%20%28Silhouette%29.txt)"
   ]
  },
  {
   "cell_type": "code",
   "execution_count": 8,
   "metadata": {
    "id": "KgAyy82gixIF",
    "pycharm": {
     "name": "#%%\n"
    }
   },
   "outputs": [
    {
     "name": "stdout",
     "output_type": "stream",
     "text": [
      "Num clusters: 5\n",
      "\n",
      "Silhouette score: 0.3845\n",
      "\n",
      "\n",
      "[0.7325, 0.7327, 0.627, 0.3817, 0.3633, 0.4045, 0.3046, 0.4839]\n",
      "75\n",
      "[0.3704, 0.3519, 0.2686, 0.0926, 0.0935, 0.094, 0.0792, 0.218]\n",
      "34\n",
      "[0.9035, 0.905, 0.7774, 0.6579, 0.5767, 0.6193, 0.5893, 0.7279]\n",
      "24\n",
      "[0.5692, 0.5628, 0.4376, 0.211, 0.2113, 0.2248, 0.1659, 0.317]\n",
      "54\n",
      "[0.1296, 0.1037, 0.1053, 0.0177, 0.0211, 0.0272, 0.0135, 0.0724]\n",
      "13\n"
     ]
    }
   ],
   "source": [
    "# Load debug data\n",
    "# Train on debug data\n",
    "# Print clusters\n",
    "def run_kmeans_debug():\n",
    "    raw_data = np.array(load_data(r\"https://raw.githubusercontent.com/cs472ta/CS472/master/datasets/abalone.arff\"))\n",
    "    normalized_data = normalize_data(raw_data)\n",
    "    kmeans_clustering = KMEANSClustering(k=5, debug=True)\n",
    "    kmeans_clustering.fit(normalized_data)\n",
    "    kmeans_clustering.print_clusters(num_decimals=4)\n",
    "\n",
    "run_kmeans_debug()"
   ]
  },
  {
   "cell_type": "markdown",
   "metadata": {
    "id": "-dM7dY52-Jep",
    "pycharm": {
     "name": "#%% md\n"
    }
   },
   "source": [
    "### 1.2.2 (15%) K-Means Evaluation\n",
    "\n",
    "We will evaluate your model based on its print_clusters() output using this [Evaluation Dataset](https://raw.githubusercontent.com/cs472ta/CS472/master/datasets/seismic-bumps_train.arff) using the *same* parameters as for Debug"
   ]
  },
  {
   "cell_type": "code",
   "execution_count": 9,
   "metadata": {
    "id": "iYDNgbmN-Jep",
    "pycharm": {
     "name": "#%%\n"
    }
   },
   "outputs": [
    {
     "name": "stdout",
     "output_type": "stream",
     "text": [
      "Num clusters: 5\n",
      "\n",
      "Silhouette score: 0.2769\n",
      "\n",
      "\n",
      "[0.5349, 0.6013, 0.4617, 0.5541, 0.5232, 0.5544, 0.6248, 1.0]\n",
      "22\n",
      "[0.3684, 0.4338, 0.4356, 0.4388, 0.3573, 0.2988, 0.3673, 0.0]\n",
      "31\n",
      "[0.3658, 0.3854, 0.7563, 0.3093, 0.4659, 0.3691, 0.2413, 0.0]\n",
      "20\n",
      "[0.1634, 0.2137, 0.3968, 0.2178, 0.1555, 0.3078, 0.1775, 0.0]\n",
      "19\n",
      "[0.7961, 0.831, 0.6054, 0.7709, 0.7802, 0.4553, 0.7919, 1.0]\n",
      "48\n"
     ]
    }
   ],
   "source": [
    "# Load evaluation data\n",
    "# Train on evaluation data\n",
    "# Print clusters\n",
    "def run_kmeans_evaluation():\n",
    "    raw_data = np.array(load_data(r\"https://raw.githubusercontent.com/cs472ta/CS472/master/datasets/seismic-bumps_train.arff\"))\n",
    "\n",
    "    def decode(value):\n",
    "        if type(value) == bytes:\n",
    "            return value.decode()\n",
    "        return value\n",
    "    decode_vectorized = np.vectorize(decode)\n",
    "    decoded_data = decode_vectorized(raw_data)\n",
    "    normalized_data = normalize_data(decoded_data)\n",
    "    kmeans_clustering = KMEANSClustering(k=5, debug=True)\n",
    "    kmeans_clustering.fit(normalized_data)\n",
    "    kmeans_clustering.print_clusters(num_decimals=4)\n",
    "\n",
    "run_kmeans_evaluation()"
   ]
  },
  {
   "cell_type": "markdown",
   "metadata": {
    "id": "9vWiTdlbR2Xh",
    "pycharm": {
     "name": "#%% md\n"
    }
   },
   "source": [
    "## 2. Iris Clustering with Both Alogrithms\n",
    "For both algorithms: \n",
    "- Don't include the output label as one of the input features\n",
    "- Normalize the data\n",
    "- Show your results for clusterings with *k* = 2-7.  \n",
    "- Graph the silhouette score for each *k* and discuss your results (i.e. what kind of clusters are being made).\n",
    "- Load this Iris Dataset [Iris Dataset](https://raw.githubusercontent.com/cs472ta/CS472/master/datasets/iris.arff)\n",
    "\n",
    "### 2.1 (10%) Iris Clustering with HAC\n",
    "\n",
    "- Use single-link and complete link clustering algorithms\n",
    "---"
   ]
  },
  {
   "cell_type": "code",
   "execution_count": 68,
   "metadata": {
    "id": "4SSoasDQSKXb",
    "pycharm": {
     "name": "#%%\n"
    }
   },
   "outputs": [
    {
     "name": "stdout",
     "output_type": "stream",
     "text": [
      "Single-link HAC Clustering with k = 2\n",
      "Num clusters: 2\n",
      "Silhouette score: 0.6295\n",
      "\n",
      "[0.1961, 0.5908, 0.0786, 0.06]\n",
      "50\n",
      "[0.545, 0.3633, 0.662, 0.6567]\n",
      "100\n",
      "\n",
      "\n",
      "Single-link HAC Clustering with k = 3\n",
      "Num clusters: 3\n",
      "Silhouette score: 0.5309\n",
      "\n",
      "[0.199, 0.6003, 0.0792, 0.0595]\n",
      "49\n",
      "[0.0556, 0.125, 0.0508, 0.0833]\n",
      "1\n",
      "[0.545, 0.3633, 0.662, 0.6567]\n",
      "100\n",
      "\n",
      "\n",
      "Single-link HAC Clustering with k = 4\n",
      "Num clusters: 4\n",
      "Silhouette score: 0.3883\n",
      "\n",
      "[0.199, 0.6003, 0.0792, 0.0595]\n",
      "49\n",
      "[0.0556, 0.125, 0.0508, 0.0833]\n",
      "1\n",
      "[0.5363, 0.3554, 0.6563, 0.6531]\n",
      "98\n",
      "[0.9722, 0.75, 0.9407, 0.8333]\n",
      "2\n",
      "\n",
      "\n",
      "Single-link HAC Clustering with k = 5\n",
      "Num clusters: 5\n",
      "Silhouette score: 0.2051\n",
      "\n",
      "[0.199, 0.6003, 0.0792, 0.0595]\n",
      "49\n",
      "[0.0556, 0.125, 0.0508, 0.0833]\n",
      "1\n",
      "[0.5401, 0.357, 0.657, 0.6529]\n",
      "97\n",
      "[0.1667, 0.2083, 0.5932, 0.6667]\n",
      "1\n",
      "[0.9722, 0.75, 0.9407, 0.8333]\n",
      "2\n",
      "\n",
      "\n",
      "Single-link HAC Clustering with k = 6\n",
      "Num clusters: 6\n",
      "Silhouette score: 0.1605\n",
      "\n",
      "[0.199, 0.6003, 0.0792, 0.0595]\n",
      "49\n",
      "[0.0556, 0.125, 0.0508, 0.0833]\n",
      "1\n",
      "[0.5373, 0.3537, 0.6548, 0.6493]\n",
      "96\n",
      "[0.1667, 0.2083, 0.5932, 0.6667]\n",
      "1\n",
      "[0.8056, 0.6667, 0.8644, 1.0]\n",
      "1\n",
      "[0.9722, 0.75, 0.9407, 0.8333]\n",
      "2\n",
      "\n",
      "\n",
      "Single-link HAC Clustering with k = 7\n",
      "Num clusters: 7\n",
      "Silhouette score: 0.1094\n",
      "\n",
      "[0.199, 0.6003, 0.0792, 0.0595]\n",
      "49\n",
      "[0.0556, 0.125, 0.0508, 0.0833]\n",
      "1\n",
      "[0.5386, 0.3539, 0.6544, 0.6461]\n",
      "95\n",
      "[0.1667, 0.2083, 0.5932, 0.6667]\n",
      "1\n",
      "[0.8056, 0.6667, 0.8644, 1.0]\n",
      "1\n",
      "[0.4167, 0.3333, 0.6949, 0.9583]\n",
      "1\n",
      "[0.9722, 0.75, 0.9407, 0.8333]\n",
      "2\n",
      "\n",
      "\n"
     ]
    },
    {
     "data": {
      "text/plain": "<Figure size 640x480 with 1 Axes>",
      "image/png": "[encoded data removed]"
     },
     "metadata": {},
     "output_type": "display_data"
    }
   ],
   "source": [
    "# Iris Clustering using single-link\n",
    "def run_hac_single_iris():\n",
    "    raw_data = np.array(load_data(r\"https://raw.githubusercontent.com/cs472ta/CS472/master/datasets/iris.arff\"))\n",
    "    data = normalize_data(raw_data[:,:-1])\n",
    "    k_array = [2, 3, 4, 5, 6, 7]\n",
    "    silhouette_scores = []\n",
    "    for i in k_array:\n",
    "        print(f\"Single-link HAC Clustering with k = {i}\")\n",
    "        hac_clustering = HACClustering(k=i, link_type=\"single\")\n",
    "        hac_clustering.fit(data)\n",
    "        hac_clustering.print_clusters(num_decimals=4)\n",
    "        silhouette_scores.append(hac_clustering.get_silhouette_score())\n",
    "        print()\n",
    "        print()\n",
    "    plt.plot(k_array, silhouette_scores)\n",
    "    plt.title(\"Silhouette Score by K-value\")\n",
    "    plt.xlabel(\"K-value\")\n",
    "    plt.ylabel(\"Silhouette Score\")\n",
    "    plt.show()\n",
    "\n",
    "run_hac_single_iris()"
   ]
  },
  {
   "cell_type": "code",
   "execution_count": 69,
   "metadata": {
    "id": "qrxjOxay-Jep",
    "pycharm": {
     "name": "#%%\n"
    }
   },
   "outputs": [
    {
     "name": "stdout",
     "output_type": "stream",
     "text": [
      "Complete-link HAC Clustering with k = 2\n",
      "Num clusters: 2\n",
      "Silhouette score: 0.3039\n",
      "\n",
      "[0.3436, 0.4318, 0.367, 0.3452]\n",
      "116\n",
      "[0.719, 0.4645, 0.8106, 0.8419]\n",
      "34\n",
      "\n",
      "\n",
      "Complete-link HAC Clustering with k = 3\n",
      "Num clusters: 3\n",
      "Silhouette score: 0.5031\n",
      "\n",
      "[0.1961, 0.5908, 0.0786, 0.06]\n",
      "50\n",
      "[0.4554, 0.3112, 0.5855, 0.5612]\n",
      "66\n",
      "[0.719, 0.4645, 0.8106, 0.8419]\n",
      "34\n",
      "\n",
      "\n",
      "Complete-link HAC Clustering with k = 4\n",
      "Num clusters: 4\n",
      "Silhouette score: 0.3932\n",
      "\n",
      "[0.2424, 0.6742, 0.0827, 0.0732]\n",
      "33\n",
      "[0.1062, 0.4289, 0.0708, 0.0343]\n",
      "17\n",
      "[0.4554, 0.3112, 0.5855, 0.5612]\n",
      "66\n",
      "[0.719, 0.4645, 0.8106, 0.8419]\n",
      "34\n",
      "\n",
      "\n",
      "Complete-link HAC Clustering with k = 5\n",
      "Num clusters: 5\n",
      "Silhouette score: 0.3368\n",
      "\n",
      "[0.2424, 0.6742, 0.0827, 0.0732]\n",
      "33\n",
      "[0.1062, 0.4289, 0.0708, 0.0343]\n",
      "17\n",
      "[0.5368, 0.3671, 0.6432, 0.6295]\n",
      "37\n",
      "[0.3515, 0.2399, 0.512, 0.4741]\n",
      "29\n",
      "[0.719, 0.4645, 0.8106, 0.8419]\n",
      "34\n",
      "\n",
      "\n",
      "Complete-link HAC Clustering with k = 6\n",
      "Num clusters: 6\n",
      "Silhouette score: 0.3292\n",
      "\n",
      "[0.2424, 0.6742, 0.0827, 0.0732]\n",
      "33\n",
      "[0.1062, 0.4289, 0.0708, 0.0343]\n",
      "17\n",
      "[0.5368, 0.3671, 0.6432, 0.6295]\n",
      "37\n",
      "[0.3515, 0.2399, 0.512, 0.4741]\n",
      "29\n",
      "[0.6365, 0.4601, 0.7657, 0.8569]\n",
      "23\n",
      "[0.8914, 0.4735, 0.9045, 0.8106]\n",
      "11\n",
      "\n",
      "\n",
      "Complete-link HAC Clustering with k = 7\n",
      "Num clusters: 7\n",
      "Silhouette score: 0.3244\n",
      "\n",
      "[0.2424, 0.6742, 0.0827, 0.0732]\n",
      "33\n",
      "[0.1062, 0.4289, 0.0708, 0.0343]\n",
      "17\n",
      "[0.5604, 0.4221, 0.6094, 0.5779]\n",
      "23\n",
      "[0.3515, 0.2399, 0.512, 0.4741]\n",
      "29\n",
      "[0.498, 0.2768, 0.6985, 0.7143]\n",
      "14\n",
      "[0.6365, 0.4601, 0.7657, 0.8569]\n",
      "23\n",
      "[0.8914, 0.4735, 0.9045, 0.8106]\n",
      "11\n",
      "\n",
      "\n"
     ]
    },
    {
     "data": {
      "text/plain": "<Figure size 640x480 with 1 Axes>",
      "image/png": "[encoded data removed]"
     },
     "metadata": {},
     "output_type": "display_data"
    }
   ],
   "source": [
    "# Iris Clustering using complete-link\n",
    "def run_hac_complete_iris():\n",
    "    raw_data = np.array(load_data(r\"https://raw.githubusercontent.com/cs472ta/CS472/master/datasets/iris.arff\"))\n",
    "    data = normalize_data(raw_data[:,:-1])\n",
    "    k_array = [2, 3, 4, 5, 6, 7]\n",
    "    silhouette_scores = []\n",
    "    for i in k_array:\n",
    "        print(f\"Complete-link HAC Clustering with k = {i}\")\n",
    "        hac_clustering = HACClustering(k=i, link_type=\"complete\")\n",
    "        hac_clustering.fit(data)\n",
    "        hac_clustering.print_clusters(num_decimals=4)\n",
    "        silhouette_scores.append(hac_clustering.get_silhouette_score())\n",
    "        print()\n",
    "        print()\n",
    "    plt.plot(k_array, silhouette_scores)\n",
    "    plt.title(\"Silhouette Score by K-value\")\n",
    "    plt.xlabel(\"K-value\")\n",
    "    plt.ylabel(\"Silhouette Score\")\n",
    "    plt.show()\n",
    "\n",
    "run_hac_complete_iris()"
   ]
  },
  {
   "cell_type": "markdown",
   "metadata": {
    "id": "GjkatnQY-Jep",
    "pycharm": {
     "name": "#%% md\n"
    }
   },
   "source": [
    "Discuss your results including the differences between single-link and complete-link\n",
    "Initially when I ran the clustering algorithm on the data, I did so without normalizing it and single link and complete link gave somewhat similar results, but when I realized that the project specifications said to normalize the data and ran it again, I was surprised to find that complete link naturally clustered the data into 3 groups when comparing silhouette scores. Single link found the best clustering to have only two clusters while complete link identified the best clustering by silhouette score to be three clusters just as the number of output classes in the iris dataset. This seems to tell me that two species/sub-species of the iris are fairly similar while the third is quite different. This would explain how the single link clustering led to a 2-cluster optimal. However, when the clusters are examined in a more spherical manner as is done when using the complete-link metric, there seems to be more naturally three clusters. The silhouette score in both algorithms clearly demonstrates that lower numbers of clusters in clusterings are generally better than higher clusterings. This makes sense as the algorithm would be trying to subdivide the natural clusters of the three flower species."
   ]
  },
  {
   "cell_type": "markdown",
   "metadata": {
    "id": "DGfrL7p5-Jeq",
    "pycharm": {
     "name": "#%% md\n"
    }
   },
   "source": [
    "### 2.2 (10%) Iris Clustering with K-means"
   ]
  },
  {
   "cell_type": "code",
   "execution_count": 78,
   "metadata": {
    "id": "gigfanaW-Jeq",
    "pycharm": {
     "name": "#%%\n"
    }
   },
   "outputs": [
    {
     "name": "stdout",
     "output_type": "stream",
     "text": [
      "KMeans Clustering with k = 2\n",
      "Num clusters: 2\n",
      "\n",
      "Silhouette score: 0.6295\n",
      "\n",
      "\n",
      "[0.545, 0.3633, 0.662, 0.6567]\n",
      "100\n",
      "[0.1961, 0.5908, 0.0786, 0.06]\n",
      "50\n",
      "\n",
      "\n",
      "KMeans Clustering with k = 3\n",
      "Num clusters: 3\n",
      "\n",
      "Silhouette score: 0.4977\n",
      "\n",
      "\n",
      "[0.1263, 0.3769, 0.1263, 0.0985]\n",
      "22\n",
      "[0.5596, 0.3733, 0.6736, 0.668]\n",
      "96\n",
      "[0.2439, 0.6797, 0.0842, 0.0742]\n",
      "32\n",
      "\n",
      "\n",
      "KMeans Clustering with k = 4\n",
      "Num clusters: 4\n",
      "\n",
      "Silhouette score: 0.4430\n",
      "\n",
      "\n",
      "[0.7343, 0.4708, 0.8192, 0.8611]\n",
      "30\n",
      "[0.1961, 0.5908, 0.0786, 0.06]\n",
      "50\n",
      "[0.3457, 0.2485, 0.4997, 0.463]\n",
      "27\n",
      "[0.5381, 0.3605, 0.6543, 0.6357]\n",
      "43\n",
      "\n",
      "\n",
      "KMeans Clustering with k = 5\n",
      "Num clusters: 5\n",
      "\n",
      "Silhouette score: 0.4122\n",
      "\n",
      "\n",
      "[0.1961, 0.5908, 0.0786, 0.06]\n",
      "50\n",
      "[0.779, 0.4801, 0.8401, 0.8623]\n",
      "23\n",
      "[0.3512, 0.2336, 0.5091, 0.4702]\n",
      "28\n",
      "[0.5233, 0.3667, 0.7139, 0.77]\n",
      "25\n",
      "[0.5694, 0.3993, 0.6158, 0.559]\n",
      "24\n",
      "\n",
      "\n",
      "KMeans Clustering with k = 6\n",
      "Num clusters: 6\n",
      "\n",
      "Silhouette score: 0.3402\n",
      "\n",
      "\n",
      "[0.297, 0.7949, 0.0887, 0.0769]\n",
      "13\n",
      "[0.7343, 0.4708, 0.8192, 0.8611]\n",
      "30\n",
      "[0.2069, 0.5958, 0.0788, 0.0708]\n",
      "20\n",
      "[0.5381, 0.3605, 0.6543, 0.6357]\n",
      "43\n",
      "[0.1062, 0.4289, 0.0708, 0.0343]\n",
      "17\n",
      "[0.3457, 0.2485, 0.4997, 0.463]\n",
      "27\n",
      "\n",
      "\n",
      "KMeans Clustering with k = 7\n",
      "Num clusters: 7\n",
      "\n",
      "Silhouette score: 0.2549\n",
      "\n",
      "\n",
      "[0.0764, 0.5069, 0.0678, 0.0417]\n",
      "12\n",
      "[0.303, 0.1553, 0.4468, 0.4091]\n",
      "11\n",
      "[0.7553, 0.4824, 0.8312, 0.867]\n",
      "26\n",
      "[0.5578, 0.3739, 0.6789, 0.6802]\n",
      "37\n",
      "[0.4188, 0.3173, 0.56, 0.5176]\n",
      "26\n",
      "[0.2754, 0.7174, 0.0833, 0.0761]\n",
      "23\n",
      "[0.1704, 0.4639, 0.0802, 0.05]\n",
      "15\n",
      "\n",
      "\n"
     ]
    },
    {
     "data": {
      "text/plain": "<Figure size 640x480 with 1 Axes>",
      "image/png": "[encoded data removed]"
     },
     "metadata": {},
     "output_type": "display_data"
    }
   ],
   "source": [
    "# Iris Clustering with K-means\n",
    "def run_kmeans_iris():\n",
    "    raw_data = np.array(load_data(r\"https://raw.githubusercontent.com/cs472ta/CS472/master/datasets/iris.arff\"))\n",
    "    data = normalize_data(raw_data[:, :-1])\n",
    "    k_array = [2, 3, 4, 5, 6, 7]\n",
    "    silhouette_scores = []\n",
    "    for i in k_array:\n",
    "        print(f\"KMeans Clustering with k = {i}\")\n",
    "        kmeans_clustering = KMEANSClustering(k=i)\n",
    "        kmeans_clustering.fit(data)\n",
    "        kmeans_clustering.print_clusters(num_decimals=4)\n",
    "        silhouette_scores.append(kmeans_clustering.get_silhouette_score())\n",
    "        print()\n",
    "        print()\n",
    "    plt.plot(k_array, silhouette_scores)\n",
    "    plt.title(\"Silhouette Score by K-value\")\n",
    "    plt.xlabel(\"K-value\")\n",
    "    plt.ylabel(\"Silhouette Score\")\n",
    "    plt.show()\n",
    "\n",
    "run_kmeans_iris()"
   ]
  },
  {
   "cell_type": "markdown",
   "metadata": {
    "id": "IELq_zlu-Jeq",
    "pycharm": {
     "name": "#%% md\n"
    }
   },
   "source": [
    "Discuss your results\n",
    "When running kmeans on the iris dataset, the first thing that I noticed was the high variability in silhouette scores based on the random initial centroids. Occasionally higher k-values would produce decent silhouette scores and occasionally they would produce very low silhouette scores. I hypothesize that when they give poor silhouette scores the initial centroid that was chosen was likely close to another chosen centroid which would make points around them not be very \"decided\" on which cluster they belonged to.\n",
    "I also found it interesting that the graph of silhouette score to k-value produced was fairly similar to that of HAC single link in that the very best silhouette score was given when there were only two clusters and gradually decreased with each additional cluster. It did differ however in that with higher numbers of clusters, occasionally the silhouette score would jump higher with a different seeded centroid. I would have expected the results to be more like complete link where a k-value of three would produce the best result. I think that this just demonstrates that with the iris dataset, two types of the flowers are very similar while they are very different from the third type of flower in the dataset."
   ]
  },
  {
   "cell_type": "markdown",
   "metadata": {
    "id": "lVA-r3WV-Jeq",
    "pycharm": {
     "name": "#%% md\n"
    }
   },
   "source": [
    "### 2.3 (5%) K-means Initial Centroids Experiment\n",
    "\n",
    "- Run K-means 5 times with *k*=4, each time with different initial random centroids and discuss any variations in the results.\n",
    "- If you ever end up with any empty clusters in K-means, re-run with different initial centroids."
   ]
  },
  {
   "cell_type": "code",
   "execution_count": 79,
   "metadata": {
    "id": "jtXU14fU-Jer",
    "pycharm": {
     "name": "#%%\n"
    }
   },
   "outputs": [
    {
     "name": "stdout",
     "output_type": "stream",
     "text": [
      "KMeans Clustering with k = 5, iteration 0\n",
      "Num clusters: 4\n",
      "\n",
      "Silhouette score: 0.4435\n",
      "\n",
      "\n",
      "[0.1961, 0.5908, 0.0786, 0.06]\n",
      "50\n",
      "[0.749, 0.4769, 0.8293, 0.8673]\n",
      "27\n",
      "[0.5496, 0.377, 0.6626, 0.6558]\n",
      "42\n",
      "[0.3611, 0.246, 0.5156, 0.4745]\n",
      "31\n",
      "\n",
      "\n",
      "KMeans Clustering with k = 5, iteration 1\n",
      "Num clusters: 4\n",
      "\n",
      "Silhouette score: 0.3835\n",
      "\n",
      "\n",
      "[0.1162, 0.4583, 0.074, 0.0379]\n",
      "22\n",
      "[0.2589, 0.6949, 0.0823, 0.0774]\n",
      "28\n",
      "[0.412, 0.2769, 0.559, 0.5208]\n",
      "48\n",
      "[0.6677, 0.4431, 0.7572, 0.7821]\n",
      "52\n",
      "\n",
      "\n",
      "KMeans Clustering with k = 5, iteration 2\n",
      "Num clusters: 4\n",
      "\n",
      "Silhouette score: 0.4435\n",
      "\n",
      "\n",
      "[0.1961, 0.5908, 0.0786, 0.06]\n",
      "50\n",
      "[0.749, 0.4769, 0.8293, 0.8673]\n",
      "27\n",
      "[0.5496, 0.377, 0.6626, 0.6558]\n",
      "42\n",
      "[0.3611, 0.246, 0.5156, 0.4745]\n",
      "31\n",
      "\n",
      "\n",
      "KMeans Clustering with k = 5, iteration 3\n",
      "Num clusters: 4\n",
      "\n",
      "Silhouette score: 0.4435\n",
      "\n",
      "\n",
      "[0.749, 0.4769, 0.8293, 0.8673]\n",
      "27\n",
      "[0.1961, 0.5908, 0.0786, 0.06]\n",
      "50\n",
      "[0.3611, 0.246, 0.5156, 0.4745]\n",
      "31\n",
      "[0.5496, 0.377, 0.6626, 0.6558]\n",
      "42\n",
      "\n",
      "\n",
      "KMeans Clustering with k = 5, iteration 4\n",
      "Num clusters: 4\n",
      "\n",
      "Silhouette score: 0.4446\n",
      "\n",
      "\n",
      "[0.1961, 0.5908, 0.0786, 0.06]\n",
      "50\n",
      "[0.3563, 0.2371, 0.5091, 0.4713]\n",
      "29\n",
      "[0.5417, 0.375, 0.6566, 0.6419]\n",
      "42\n",
      "[0.7385, 0.4727, 0.8229, 0.8635]\n",
      "29\n",
      "\n",
      "\n"
     ]
    }
   ],
   "source": [
    "#K-means 5 times\n",
    "def run_iris_centroid_experiment():\n",
    "    raw_data = np.array(load_data(r\"https://raw.githubusercontent.com/cs472ta/CS472/master/datasets/iris.arff\"))\n",
    "    data = normalize_data(raw_data[:, :-1])\n",
    "    for i in range(0, 5):\n",
    "        print(f\"KMeans Clustering with k = 5, iteration {i}\")\n",
    "        kmeans_clustering = KMEANSClustering(k=4)\n",
    "        kmeans_clustering.fit(data)\n",
    "        kmeans_clustering.print_clusters(num_decimals=4)\n",
    "        print()\n",
    "        print()\n",
    "\n",
    "run_iris_centroid_experiment()"
   ]
  },
  {
   "cell_type": "markdown",
   "metadata": {
    "id": "J7LlyNEZ-Jer",
    "pycharm": {
     "name": "#%% md\n"
    }
   },
   "source": [
    "Discuss any variations in the results\n",
    "After running the test 5 times, I found that most of the time, the clusterings gave similar silhouette scores of around .44, but it gave a silhouette score closer to .38 one time. I didn't realize how much of an impact initial centroids could have on kmeans even if non-outlier points were chosen. Each of the groupings had at least 15ish points, and in the groupings with higher silhouette scores, the groupings were a bit more evenly distributed across the groups than when the lower silhouette score appeared. In the trial that gave the lower silhouette score I also noticed that one group had significantly more points than in the other trials. I hypothesize that one of the centroids was caught in a smaller cluster of semi-outlier points while another cluster had to include more points as a result which led to more points on the border between clusters.\n",
    "I also discovered that different random centroids could eventually converge to similar clusters as well, as I had a few clusterings with the same distribution. This makes sense if the initially chosen points were fairly similar to each other."
   ]
  },
  {
   "cell_type": "markdown",
   "metadata": {
    "id": "oBBmeNQ7jvcQ",
    "pycharm": {
     "name": "#%% md\n"
    }
   },
   "source": [
    "## 3. Scikit-Learn Comparison\n",
    "\n",
    "### 3.1 (10%) Run the SK versions of HAC (just complete link) and K-means on Iris data set above\n",
    "\n",
    "- Report results for a couple values of *k*\n",
    "- Experiment using different hyper-parameters"
   ]
  },
  {
   "cell_type": "code",
   "execution_count": 86,
   "metadata": {
    "id": "OFQv70W2VyqJ",
    "pycharm": {
     "name": "#%%\n"
    }
   },
   "outputs": [
    {
     "name": "stdout",
     "output_type": "stream",
     "text": [
      "Complete link - n-clusters=2\n",
      "0.30391309058110383\n",
      "Number of items in each group: dict_values([116, 34])\n",
      "\n",
      "Complete link - n-clusters=3\n",
      "0.5030674466509139\n",
      "Number of items in each group: dict_values([50, 66, 34])\n",
      "\n",
      "Complete link - n-clusters=4\n",
      "0.3931866272687036\n",
      "Number of items in each group: dict_values([33, 17, 66, 34])\n",
      "\n",
      "Complete link - n-clusters=5\n",
      "0.3367877805272903\n",
      "Number of items in each group: dict_values([33, 17, 37, 29, 34])\n",
      "\n",
      "Complete link - n-clusters=6\n",
      "0.32918681244067777\n",
      "Number of items in each group: dict_values([33, 17, 37, 29, 23, 11])\n",
      "\n",
      "Complete link - n-clusters=7\n",
      "0.324436537466791\n",
      "Number of items in each group: dict_values([33, 17, 23, 29, 14, 23, 11])\n",
      "\n",
      "\n",
      "Ward link - n-clusters=2\n",
      "0.6294675561906644\n",
      "Number of items in each group: dict_values([50, 100])\n",
      "\n",
      "Ward link - n-clusters=3\n",
      "0.5043490792923953\n",
      "Number of items in each group: dict_values([50, 67, 33])\n",
      "\n",
      "Average link - n-clusters=3\n",
      "0.5043490792923953\n",
      "Number of items in each group: dict_values([50, 67, 33])\n",
      "\n",
      "L1 affinitiy, n-clusters=3, average link\n",
      "0.4760926649147825\n",
      "Number of items in each group: dict_values([50, 62, 38])\n",
      "\n",
      "L2 affinitiy, n-clusters=3, average link\n",
      "0.5043490792923953\n",
      "Number of items in each group: dict_values([50, 67, 33])\n",
      "KMeans\n",
      "n-clusters=2\n",
      "0.6294675561906644\n",
      "Number of items in each group: dict_values([50, 100])\n",
      "\n",
      "n-clusters=3\n",
      "0.5043188549150883\n",
      "Number of items in each group: dict_values([50, 39, 61])\n",
      "\n",
      "n-clusters=4\n",
      "0.44462733006506816\n",
      "Number of items in each group: dict_values([50, 42, 29, 29])\n",
      "\n",
      "n-clusters=5\n",
      "0.3611383662417701\n",
      "Number of items in each group: dict_values([36, 14, 43, 27, 30])\n",
      "\n",
      "n-clusters=6\n",
      "0.33010709620071044\n",
      "Number of items in each group: dict_values([24, 26, 31, 28, 29, 12])\n",
      "\n",
      "n-clusters=7\n",
      "0.31908683948379823\n",
      "Number of items in each group: dict_values([28, 22, 32, 13, 24, 20, 11])\n",
      "\n",
      "\n",
      "n-clusters=3, number of different trial seeds=10, kmeans++ centroid initialization\n",
      "0.5043188549150883\n",
      "Number of items in each group: dict_values([50, 39, 61])\n",
      "\n"
     ]
    }
   ],
   "source": [
    "# Load sklearn\n",
    "def run_sklearn_iris_hac():\n",
    "    raw_data = np.array(load_data(r\"https://raw.githubusercontent.com/cs472ta/CS472/master/datasets/iris.arff\"))\n",
    "    data = normalize_data(raw_data[:, :-1])\n",
    "\n",
    "    for i in range(2, 8):\n",
    "        print(f\"Complete link - n-clusters={i}\")\n",
    "        sklearn_hac = AgglomerativeClustering(n_clusters=i, linkage=\"complete\")\n",
    "        labels = sklearn_hac.fit_predict(data)\n",
    "        print(silhouette_score(data, labels))\n",
    "        print(f\"Number of items in each group: {Counter(labels).values()}\")\n",
    "        print()\n",
    "    print()\n",
    "\n",
    "    print(\"Ward link - n-clusters=2\")\n",
    "    sklearn_hac = AgglomerativeClustering(n_clusters=2, linkage=\"ward\")\n",
    "    labels = sklearn_hac.fit_predict(data)\n",
    "    print(silhouette_score(data, labels))\n",
    "    print(f\"Number of items in each group: {Counter(labels).values()}\")\n",
    "    print()\n",
    "\n",
    "    print(\"Ward link - n-clusters=3\")\n",
    "    sklearn_hac = AgglomerativeClustering(n_clusters=3, linkage=\"ward\")\n",
    "    labels = sklearn_hac.fit_predict(data)\n",
    "    print(silhouette_score(data, labels))\n",
    "    print(f\"Number of items in each group: {Counter(labels).values()}\")\n",
    "    print()\n",
    "\n",
    "    print(\"Average link - n-clusters=3\")\n",
    "    sklearn_hac = AgglomerativeClustering(n_clusters=3, linkage=\"average\")\n",
    "    labels = sklearn_hac.fit_predict(data)\n",
    "    print(silhouette_score(data, labels))\n",
    "    print(f\"Number of items in each group: {Counter(labels).values()}\")\n",
    "    print()\n",
    "\n",
    "    print(\"L1 affinitiy, n-clusters=3, average link\")\n",
    "    sklearn_hac = AgglomerativeClustering(n_clusters=3, affinity='l1', linkage=\"average\")\n",
    "    labels = sklearn_hac.fit_predict(data)\n",
    "    print(silhouette_score(data, labels))\n",
    "    print(f\"Number of items in each group: {Counter(labels).values()}\")\n",
    "    print()\n",
    "\n",
    "    print(\"L2 affinitiy, n-clusters=3, average link\")\n",
    "    sklearn_hac = AgglomerativeClustering(n_clusters=3, affinity='l2', linkage=\"average\")\n",
    "    labels = sklearn_hac.fit_predict(data)\n",
    "    print(silhouette_score(data, labels))\n",
    "    print(f\"Number of items in each group: {Counter(labels).values()}\")\n",
    "\n",
    "\n",
    "def run_sklearn_iris_kmeans():\n",
    "    raw_data = np.array(load_data(r\"https://raw.githubusercontent.com/cs472ta/CS472/master/datasets/iris.arff\"))\n",
    "    data = normalize_data(raw_data[:, :-1])\n",
    "\n",
    "    print(\"KMeans\")\n",
    "    for i in range(2,8):\n",
    "        print(f\"n-clusters={i}\")\n",
    "        sklearn_kmeans = KMeans(n_clusters=i, n_init=1, init=\"random\")\n",
    "        labels = sklearn_kmeans.fit_predict(data)\n",
    "        print(silhouette_score(data, labels))\n",
    "        print(f\"Number of items in each group: {Counter(labels).values()}\")\n",
    "        print()\n",
    "    print()\n",
    "\n",
    "    print(\"n-clusters=3, number of different trial seeds=10, kmeans++ centroid initialization\")\n",
    "    sklearn_kmeans = KMeans(n_clusters=3)\n",
    "    labels = sklearn_kmeans.fit_predict(data)\n",
    "    print(silhouette_score(data, labels))\n",
    "    print(f\"Number of items in each group: {Counter(labels).values()}\")\n",
    "    print()\n",
    "\n",
    "run_sklearn_iris_hac()\n",
    "run_sklearn_iris_kmeans()"
   ]
  },
  {
   "cell_type": "markdown",
   "metadata": {
    "id": "BqSFAXwlk3Ms",
    "pycharm": {
     "name": "#%% md\n"
    }
   },
   "source": [
    "*Discuss Results and Comparison with your versions of the algorithms. Discuss effects of different hyperparameters*\n",
    "The sklearn version of the algorithm gave results that appear to be the same as my results when run using complete link with different numbers of clusters. When I tweaked the link metric to be ward or average, I got similar results to those of single link in my algorithm implementation where a clustering with two clusters gave the highest silhouette score. Complete link gave the best silhouette score for a 3-cluster clustering. I also tried tweaking the affinity in the hac algorithm to use l1 and l2 metrics instead of a euclidean metric. Each of them produced silhouette scores similar to those produced when using 3 clusters and complete link. I also thought that it was interesting that in the algorithms that gave the best silhouette scores they generally grouped 50 of the flowers together in their own group. I think it would be intersting to do further investigation to see if it completely correctly identified one species of the flowers as each flower set has 50 flowers in the given dataset."
   ]
  },
  {
   "cell_type": "markdown",
   "metadata": {
    "id": "PWXyGtuk-Jer",
    "pycharm": {
     "name": "#%% md\n"
    }
   },
   "source": [
    "### 3.2 (10%) Run the SK version of HAC (just complete link) and K-means on a dataset of your choice \n",
    "- Report results for a couple values of *k*\n",
    "- Experiment using different hyper-parameters"
   ]
  },
  {
   "cell_type": "code",
   "execution_count": 93,
   "metadata": {
    "id": "Iu510dby-Jer",
    "pycharm": {
     "name": "#%%\n"
    }
   },
   "outputs": [
    {
     "name": "stdout",
     "output_type": "stream",
     "text": [
      "Complete link - n-clusters=2\n",
      "Number of items in each group: dict_values([589, 1])\n",
      "0.7806663705728843\n",
      "Complete link - n-clusters=3\n",
      "Number of items in each group: dict_values([562, 27, 1])\n",
      "0.5919413170641968\n",
      "Complete link - n-clusters=4\n",
      "Number of items in each group: dict_values([562, 16, 11, 1])\n",
      "0.5122155019880222\n",
      "Complete link - n-clusters=5\n",
      "Number of items in each group: dict_values([562, 16, 4, 7, 1])\n",
      "0.5172162687021529\n",
      "Complete link - n-clusters=6\n",
      "Number of items in each group: dict_values([562, 16, 2, 7, 2, 1])\n",
      "0.5194912623299235\n",
      "Complete link - n-clusters=7\n",
      "Number of items in each group: dict_values([557, 16, 2, 7, 2, 5, 1])\n",
      "0.5331933965384221\n",
      "Complete link - n-clusters=8\n",
      "Number of items in each group: dict_values([520, 16, 2, 37, 7, 2, 5, 1])\n",
      "0.5803306187391004\n",
      "Complete link - n-clusters=9\n",
      "Number of items in each group: dict_values([508, 16, 2, 37, 12, 7, 2, 5, 1])\n",
      "0.5947645463944092\n",
      "Complete link - n-clusters=10\n",
      "Number of items in each group: dict_values([508, 16, 2, 23, 12, 7, 2, 14, 5, 1])\n",
      "0.6001817461190004\n",
      "Complete link - n-clusters=11\n",
      "Number of items in each group: dict_values([508, 16, 2, 14, 12, 7, 9, 2, 14, 5, 1])\n",
      "0.6119391142874028\n",
      "\n",
      "Ward link - n-clusters=8\n",
      "Number of items in each group: dict_values([525, 7, 4, 11, 4, 4, 30, 5])\n",
      "0.6002469483762402\n",
      "\n",
      "Average link - n-clusters=8\n",
      "Number of items in each group: dict_values([580, 2, 2, 2, 1, 1, 1, 1])\n",
      "0.6714148864373964\n",
      "\n",
      "L1 affinitiy, n-clusters=8, average link\n",
      "Number of items in each group: dict_values([583, 1, 1, 1, 1, 1, 1, 1])\n",
      "0.6641147105651443\n",
      "\n",
      "L2 affinitiy, n-clusters=8, average link\n",
      "Number of items in each group: dict_values([580, 2, 2, 2, 1, 1, 1, 1])\n",
      "0.6714148864373964\n",
      "KMeans\n",
      "n-clusters=2\n",
      "Number of items in each group: dict_values([589, 1])\n",
      "0.00893395827386658\n",
      "n-clusters=3\n",
      "Number of items in each group: dict_values([586, 3, 1])\n",
      "0.30658659174583924\n",
      "n-clusters=4\n",
      "Number of items in each group: dict_values([587, 1, 1, 1])\n",
      "-0.2890377642932799\n",
      "n-clusters=5\n",
      "Number of items in each group: dict_values([581, 6, 1, 1, 1])\n",
      "-0.18556229789140338\n",
      "n-clusters=6\n",
      "Number of items in each group: dict_values([585, 1, 1, 1, 1, 1])\n",
      "-0.1713275004168382\n",
      "n-clusters=7\n",
      "Number of items in each group: dict_values([577, 8, 1, 1, 1, 1, 1])\n",
      "-0.11586698773294388\n",
      "n-clusters=8\n",
      "Number of items in each group: dict_values([474, 1, 1, 1, 1, 1, 1, 110])\n",
      "-0.14158437230745782\n",
      "n-clusters=9\n",
      "Number of items in each group: dict_values([582, 1, 1, 1, 1, 1, 1, 1, 1])\n",
      "-0.15126391092678768\n",
      "n-clusters=10\n",
      "Number of items in each group: dict_values([581, 1, 1, 1, 1, 1, 1, 1, 1, 1])\n",
      "-0.1451762680505709\n",
      "n-clusters=11\n",
      "Number of items in each group: dict_values([580, 1, 1, 1, 1, 1, 1, 1, 1, 1, 1])\n",
      "-0.155517425955892\n",
      "\n",
      "n-clusters=8, number of different trial seeds=10, kmeans++ centroid initialization\n",
      "Number of items in each group: dict_values([583, 1, 1, 1, 1, 1, 1, 1])\n",
      "-0.1813503863560922\n",
      "\n"
     ]
    }
   ],
   "source": [
    "# Load sklearn\n",
    "def run_sklearn_texts_hac():\n",
    "    data = normalize_data(np.array(pd.read_csv(\"https://raw.githubusercontent.com/maclaurin36/CS472-clustering/master/AllBooks_baseline_DTM_Unlabelled.csv\"))[:,:50])\n",
    "    for i in range(2, 12):\n",
    "        print(f\"Complete link - n-clusters={i}\")\n",
    "        sklearn_hac = AgglomerativeClustering(n_clusters=i, linkage=\"complete\")\n",
    "        labels = sklearn_hac.fit_predict(data)\n",
    "        print(f\"Number of items in each group: {Counter(labels).values()}\")\n",
    "        print(silhouette_score(data, labels))\n",
    "    print()\n",
    "\n",
    "    print(\"Ward link - n-clusters=8\")\n",
    "    sklearn_hac = AgglomerativeClustering(n_clusters=8, linkage=\"ward\")\n",
    "    labels = sklearn_hac.fit_predict(data)\n",
    "    print(f\"Number of items in each group: {Counter(labels).values()}\")\n",
    "    print(silhouette_score(data, labels))\n",
    "    print()\n",
    "\n",
    "    print(\"Average link - n-clusters=8\")\n",
    "    sklearn_hac = AgglomerativeClustering(n_clusters=8, linkage=\"average\")\n",
    "    labels = sklearn_hac.fit_predict(data)\n",
    "    print(f\"Number of items in each group: {Counter(labels).values()}\")\n",
    "    print(silhouette_score(data, labels))\n",
    "    print()\n",
    "\n",
    "    print(\"L1 affinitiy, n-clusters=8, average link\")\n",
    "    sklearn_hac = AgglomerativeClustering(n_clusters=8, affinity='l1', linkage=\"average\")\n",
    "    labels = sklearn_hac.fit_predict(data)\n",
    "    print(f\"Number of items in each group: {Counter(labels).values()}\")\n",
    "    print(silhouette_score(data, labels))\n",
    "    print()\n",
    "\n",
    "    print(\"L2 affinitiy, n-clusters=8, average link\")\n",
    "    sklearn_hac = AgglomerativeClustering(n_clusters=8, affinity='l2', linkage=\"average\")\n",
    "    labels = sklearn_hac.fit_predict(data)\n",
    "    print(f\"Number of items in each group: {Counter(labels).values()}\")\n",
    "    print(silhouette_score(data, labels))\n",
    "\n",
    "\n",
    "def run_sklearn_texts_kmeans():\n",
    "    data = normalize_data(np.array(pd.read_csv(\n",
    "        \"https://raw.githubusercontent.com/maclaurin36/CS472-clustering/master/AllBooks_baseline_DTM_Unlabelled.csv\")))\n",
    "    print(\"KMeans\")\n",
    "    for i in range(2,12):\n",
    "        print(f\"n-clusters={i}\")\n",
    "        sklearn_kmeans = KMeans(n_clusters=i, n_init=1, init=\"random\")\n",
    "        labels = sklearn_kmeans.fit_predict(data)\n",
    "        print(f\"Number of items in each group: {Counter(labels).values()}\")\n",
    "        print(silhouette_score(data, labels))\n",
    "    print()\n",
    "\n",
    "    print(\"n-clusters=8, number of different trial seeds=10, kmeans++ centroid initialization\")\n",
    "    sklearn_kmeans = KMeans(n_clusters=8)\n",
    "    labels = sklearn_kmeans.fit_predict(data)\n",
    "    print(f\"Number of items in each group: {Counter(labels).values()}\")\n",
    "    print(silhouette_score(data, labels))\n",
    "    print()\n",
    "\n",
    "run_sklearn_texts_hac()\n",
    "run_sklearn_texts_kmeans()"
   ]
  },
  {
   "cell_type": "markdown",
   "metadata": {
    "id": "T-oKHPPT-Jer",
    "pycharm": {
     "name": "#%% md\n"
    }
   },
   "source": [
    "*Discussion*\n",
    "I chose to use the asian religious texts dataset to see cluster sacred texts where features were collected using the bag of words technique. In this dataset there are 8 different scriptural texts, and each chapter was subdivided as a separate row in the dataset. I also decided to only use the first few features as when all features were included, the clustering algorithm grouped almost all the data points into a single clustering with single data point clusters for the remaining clusters. After reducing the input features, the clustering algorithms still found one cluster to be much more similar than all the other clusters, containing more than 90% of the data. The clustering silhouette scores show that the texts are more similar than they are different, but the silhouette scores trend upwards once we reach an 8-cluster clustering which is interesting. I'm not sure if this just occurs by chance as the number of data points in each clustering is quite low except the first clustering. I hypothesize that certain chapters between the different texts are more similar to each other than the overall texts themselves. If I were to repeat an analysis of this dataset, I would try to include chapter topics in the analysis as I think that this would provide better results. I would also be more selective of which features I gave to the model.\n",
    "Another important thing that I realized when using the clustering algorithm on this dataset is that the silhouette score can be somewhat deceiving. Until I looked at the count of items in each cluster I thought that the algorithm was performing fairly well at classifying the 8 scriptural texts as the silhouette score increased when the number of clusters was increased to 8."
   ]
  },
  {
   "cell_type": "markdown",
   "metadata": {
    "id": "cTlK-kijk8Mg",
    "pycharm": {
     "name": "#%% md\n"
    }
   },
   "source": [
    "## 4. (Optional 5% extra credit) Write your own code for silhouette\n",
    "If you do this option implement your code for silhouette above in your main implementation and use it for your experiments. Make it clear that the silhouette results come from your code. You may/should compare with the SK version to debug/verify your results."
   ]
  },
  {
   "cell_type": "markdown",
   "metadata": {
    "id": "ZtWj9ej2-Jes",
    "pycharm": {
     "name": "#%% md\n"
    }
   },
   "source": [
    "*Discussion*\n",
    "I did not implement my own silhouette scoring."
   ]
  }
 ],
 "metadata": {
  "colab": {
   "collapsed_sections": [],
   "provenance": []
  },
  "kernelspec": {
   "display_name": "Python 3",
   "language": "python",
   "name": "python3"
  },
  "language_info": {
   "codemirror_mode": {
    "name": "ipython",
    "version": 3
   },
   "file_extension": ".py",
   "mimetype": "text/x-python",
   "name": "python",
   "nbconvert_exporter": "python",
   "pygments_lexer": "ipython3",
   "version": "3.6.9"
  }
 },
 "nbformat": 4,
 "nbformat_minor": 0
}